{
 "cells": [
  {
   "cell_type": "code",
   "execution_count": 2,
   "metadata": {},
   "outputs": [],
   "source": [
    "import pandas as pd\n",
    "import numpy as np\n",
    "import os\n",
    "import matplotlib.pyplot as plt\n",
    "import seaborn as sns\n",
    "import statsmodels.api as sm\n",
    "from statsmodels.iolib.summary2 import summary_col\n",
    "from statsmodels.iolib.smpickle import load_pickle\n",
    "import zipfile\n",
    "import io"
   ]
  },
  {
   "cell_type": "code",
   "execution_count": 15,
   "metadata": {},
   "outputs": [],
   "source": [
    "archive = zipfile.ZipFile(\"cps_data/epi_cpsbasic_2000_2022.zip\", 'r')\n",
    "dta_file = archive.open('epi_cpsbasic_2021.dta')"
   ]
  },
  {
   "cell_type": "code",
   "execution_count": 17,
   "metadata": {},
   "outputs": [],
   "source": [
    "cps_2021 = pd.read_stata(dta_file)"
   ]
  },
  {
   "cell_type": "code",
   "execution_count": 19,
   "metadata": {},
   "outputs": [
    {
     "data": {
      "text/plain": [
       "(1280078, 124)"
      ]
     },
     "execution_count": 19,
     "metadata": {},
     "output_type": "execute_result"
    }
   ],
   "source": [
    "cps_2021.shape"
   ]
  },
  {
   "cell_type": "code",
   "execution_count": 37,
   "metadata": {},
   "outputs": [
    {
     "data": {
      "text/plain": [
       "No own children under 18 years of age                         882993\n",
       "All own children 6-13 years of age                             49262\n",
       "All own children 14-17 years of age                            32113\n",
       "Own children 6-13 and 14-17 years of age (none 0-5)            24755\n",
       "All own children 0-2 years of age                              19232\n",
       "Own children 3-5 and 6-13 years of age (none 0-2 or 14-17)     18157\n",
       "All own children 3-5 years of age                              13956\n",
       "Own children 0-2 and 3-5 years of age (none 6-17)               9732\n",
       "Own children 0-2 and 6-13 years of age (none 3-5 or 14-17)      7847\n",
       "Own children 0-2, 3-5, and  6-13 years of age (none 14-17)      5556\n",
       "Own children 3-5, 6-13, and 14-17 years of age (none 0-2)       3319\n",
       "Own children 0-2, 6-13, and 14-17 years of age (none 3-5)       1796\n",
       "Own children 3-5 and 14-17 years of age (none 0-2 or 6-13)      1451\n",
       "Own children 0-2 and 14-17 years of age (none 3-13)             1087\n",
       "Own children from all age groups                                 729\n",
       "Own children 0-2, 3-5, and 14-17 years of age (none 6-13)        379\n",
       "Name: agechild, dtype: int64"
      ]
     },
     "execution_count": 37,
     "metadata": {},
     "output_type": "execute_result"
    }
   ],
   "source": [
    "cps_2021[\"agechild\"].value_counts()"
   ]
  },
  {
   "cell_type": "code",
   "execution_count": 23,
   "metadata": {},
   "outputs": [],
   "source": [
    "cps_2021[\"Eligible\"] = (cps_2021[\"agechild\"] != \"No own children under 18 years of age\")"
   ]
  },
  {
   "cell_type": "code",
   "execution_count": 26,
   "metadata": {},
   "outputs": [],
   "source": [
    "cps_2021 = cps_2021[cps_2021[\"faminc\"] != \"$150,000+ (2003m10-present)\"]"
   ]
  },
  {
   "cell_type": "code",
   "execution_count": 28,
   "metadata": {},
   "outputs": [],
   "source": [
    "cps_2021[\"Post\"] = (cps_2021[\"month\"] > 6) & (cps_2021[\"month\"] < 12)"
   ]
  },
  {
   "cell_type": "code",
   "execution_count": 30,
   "metadata": {},
   "outputs": [
    {
     "data": {
      "text/plain": [
       "0           NaN\n",
       "1          36.0\n",
       "2           NaN\n",
       "3           NaN\n",
       "4          40.0\n",
       "           ... \n",
       "1280073     NaN\n",
       "1280074    32.0\n",
       "1280075     NaN\n",
       "1280076     NaN\n",
       "1280077    45.0\n",
       "Name: hourslwt, Length: 1072364, dtype: float64"
      ]
     },
     "execution_count": 30,
     "metadata": {},
     "output_type": "execute_result"
    }
   ],
   "source": [
    "cps_2021['hourslwt']"
   ]
  },
  {
   "cell_type": "code",
   "execution_count": 36,
   "metadata": {},
   "outputs": [
    {
     "data": {
      "text/plain": [
       "<matplotlib.lines.Line2D at 0x21d38636130>"
      ]
     },
     "execution_count": 36,
     "metadata": {},
     "output_type": "execute_result"
    },
    {
     "data": {
      "image/png": "[encoded data removed]",
      "text/plain": [
       "<Figure size 432x288 with 1 Axes>"
      ]
     },
     "metadata": {
      "needs_background": "light"
     },
     "output_type": "display_data"
    }
   ],
   "source": [
    "cps_2021.pivot_table(columns=\"Eligible\", index=\"month\", values=\"hourslwt\").plot()\n",
    "plt.axvline(7)\n",
    "        # pivoted_data = df_m.pivot_table(columns=\"Eligible\", index=\"Week\", values=dependent_vars[counter])\n"
   ]
  },
  {
   "cell_type": "code",
   "execution_count": null,
   "metadata": {},
   "outputs": [],
   "source": []
  }
 ],
 "metadata": {
  "kernelspec": {
   "display_name": "Python 3.9.6 64-bit",
   "language": "python",
   "name": "python3"
  },
  "language_info": {
   "codemirror_mode": {
    "name": "ipython",
    "version": 3
   },
   "file_extension": ".py",
   "mimetype": "text/x-python",
   "name": "python",
   "nbconvert_exporter": "python",
   "pygments_lexer": "ipython3",
   "version": "3.9.6"
  },
  "orig_nbformat": 4,
  "vscode": {
   "interpreter": {
    "hash": "8ce4c5ed7b9c8ed2521015bed597fb57332d51347537394f12a49727595053f6"
   }
  }
 },
 "nbformat": 4,
 "nbformat_minor": 2
}
