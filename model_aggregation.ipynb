{
 "cells": [
  {
   "cell_type": "code",
   "execution_count": 1,
   "metadata": {},
   "outputs": [],
   "source": [
    "import pandas as pd\n",
    "import pickle\n",
    "import statsmodels.api as sm\n",
    "from statsmodels.iolib.summary2 import summary_col\n",
    "from statsmodels.iolib.smpickle import load_pickle\n",
    "\n",
    "dependent_vars = ['Depressed', 'Anxious', 'Received_Free_Food', 'Food_Insecurity', 'Difficulty_with_Expenses', 'Rent_Confidence']\n",
    "dependent_vars = ['Received_Free_Food', 'Food_Insecurity', 'Enrolled_in_SNAP']"
   ]
  },
  {
   "cell_type": "code",
   "execution_count": 3,
   "metadata": {},
   "outputs": [],
   "source": [
    "\n",
    "results = []\n",
    "for var in dependent_vars:\n",
    "    models = []\n",
    "    for kids in [\"None\", \"1\", \"2\", \"3\", \"4\"]:\n",
    "        models.append(load_pickle(f\"models\\{var}_fe_model_{kids}_kids.p\"))\n",
    "    output_table = pd.read_html(\n",
    "        summary_col([*models],\n",
    "                    stars=True,\n",
    "                    regressor_order=[\"Treat\"],\n",
    "                    drop_omitted=True,\n",
    "                    info_dict={\n",
    "            \"N\": lambda x: (str(int(x.nobs))), \"Fixed Effects\": lambda x: \"Week/Group\"})\n",
    "        .as_html(), header=0, index_col=0)[0]\n",
    "    output_table.columns = ['Children Generally', 'One Child', 'Two Children', 'Three Children', 'Four Children']\n",
    "    output_table.index = 'Treat', '', 'R-squared', 'R-squared Adj.', 'N', 'Fixed Effects'\n",
    "    results.append(output_table)"
   ]
  },
  {
   "cell_type": "code",
   "execution_count": 4,
   "metadata": {},
   "outputs": [],
   "source": [
    "new_index = []\n",
    "for ind, var in enumerate(dependent_vars):\n",
    "    new_index.append(var)\n",
    "    if ind+1 % 2 != 0:\n",
    "        new_index.append(\"\")"
   ]
  },
  {
   "cell_type": "code",
   "execution_count": 5,
   "metadata": {},
   "outputs": [
    {
     "name": "stdout",
     "output_type": "stream",
     "text": [
      ",Children Generally,One Child,Two Children,Three Children,Four Children\n",
      "Received Free Food,-0.0181***,-0.0141***,-0.0168***,-0.0218**,-0.0485***\n",
      ",(0.0033),(0.0042),(0.0053),(0.0095),(0.0169)\n",
      "Food Insecurity,-0.0256***,-0.0206***,-0.0264***,-0.0375***,-0.0395**\n",
      ",(0.0037),(0.0049),(0.0058),(0.0090),(0.0180)\n",
      "Enrolled in SNAP,0.0102**,0.0126**,0.0047,0.0196,0.0080\n",
      ",(0.0046),(0.0058),(0.0073),(0.0134),(0.0222)\n",
      "N,842783,713637,679113,628867,608418\n",
      "Fixed Effects,Week/Group,Week/Group,Week/Group,Week/Group,Week/Group\n",
      "\n"
     ]
    }
   ],
   "source": [
    "all_results = pd.concat([result.iloc[:2, :] for result in results])\n",
    "all_results.index = new_index\n",
    "print(pd.concat([all_results, results[0].iloc[-2:, :]]).to_csv().replace(\"_\", \" \"))"
   ]
  },
  {
   "cell_type": "code",
   "execution_count": 6,
   "metadata": {},
   "outputs": [],
   "source": [
    "\n",
    "models = []\n",
    "for var in dependent_vars:\n",
    "    models.append(load_pickle(f\"models\\{var}_event_study_None_kids.p\"))\n"
   ]
  },
  {
   "cell_type": "code",
   "execution_count": 7,
   "metadata": {},
   "outputs": [],
   "source": [
    "output_table = pd.read_html(\n",
    "    summary_col([*models],\n",
    "                stars=True,\n",
    "                info_dict={\n",
    "        \"N\": lambda x: (str(int(x.nobs)))})\n",
    "    .as_html(), header=0, index_col=0)[0]\n",
    "# output_table.columns = ['Children Generally', 'One Child',\n",
    "#                         'Two Children', 'Three Children', 'Four Children']\n",
    "# output_table.index = 'Treat', '', 'R-squared', 'R-squared Adj.', 'N', 'Fixed Effects'\n",
    "# results.append(output_table)"
   ]
  },
  {
   "cell_type": "code",
   "execution_count": 8,
   "metadata": {},
   "outputs": [],
   "source": [
    "output_table = output_table.reset_index()"
   ]
  },
  {
   "cell_type": "code",
   "execution_count": 9,
   "metadata": {},
   "outputs": [
    {
     "name": "stdout",
     "output_type": "stream",
     "text": [
      "Coefficient,Received Free Food,Food Insecurity,Enrolled in SNAP\n",
      "C(Week)[T.27]:Eligible,-0.0204**,-0.0231**,-0.0165\n",
      "C(Week)[T.28]:Eligible,-0.0113,-0.0175,-0.0122\n",
      "C(Week)[T.29]:Eligible,-0.0194**,-0.0101,0.0181\n",
      "C(Week)[T.30]:Eligible,-0.0076,-0.0007,0.0077\n",
      "C(Week)[T.31]:Eligible,-0.0268***,-0.0072,0.0172\n",
      "C(Week)[T.32]:Eligible,-0.0289***,-0.0008,0.0032\n",
      "C(Week)[T.33]:Eligible,-0.0169*,0.0087,0.0110\n",
      "C(Week)[T.34]:Eligible,-0.0425***,-0.0358***,0.0299**\n",
      "C(Week)[T.35]:Eligible,-0.0582***,-0.0416***,0.0040\n",
      "C(Week)[T.36]:Eligible,-0.0522***,-0.0261**,0.0069\n",
      "C(Week)[T.37]:Eligible,-0.0536***,-0.0347***,0.0148\n",
      "C(Week)[T.38]:Eligible,-0.0539***,-0.0324***,0.0032\n",
      "C(Week)[T.39]:Eligible,-0.0382***,-0.0375***,0.0117\n",
      "C(Week)[T.40]:Eligible,-0.0382***,-0.0261**,0.0137\n",
      "C(Week)[T.41]:Eligible,-0.0508***,-0.0184*,0.0068\n",
      "C(Week)[T.42]:Eligible,-0.0496***,-0.0055,0.0047\n",
      "C(Week)[T.43]:Eligible,-0.0606***,-0.0153,-0.0094\n",
      "C(Week)[T.44]:Eligible,-0.0563***,-0.0117,-0.0104\n",
      "C(Week)[T.45]:Eligible,-0.0460***,0.0035,-0.0122\n",
      "\n"
     ]
    }
   ],
   "source": [
    "print(output_table[output_table['index'].str.startswith(\"C(Week)\") & output_table['index'].str.endswith(\":Eligible\")].rename(columns={\"index\": \"Coefficient\"}).to_csv(index=False).replace(\"_\", \" \"))"
   ]
  },
  {
   "cell_type": "code",
   "execution_count": 10,
   "metadata": {},
   "outputs": [
    {
     "data": {
      "text/html": [
       "<div>\n",
       "<style scoped>\n",
       "    .dataframe tbody tr th:only-of-type {\n",
       "        vertical-align: middle;\n",
       "    }\n",
       "\n",
       "    .dataframe tbody tr th {\n",
       "        vertical-align: top;\n",
       "    }\n",
       "\n",
       "    .dataframe thead th {\n",
       "        text-align: right;\n",
       "    }\n",
       "</style>\n",
       "<table border=\"1\" class=\"dataframe\">\n",
       "  <thead>\n",
       "    <tr style=\"text-align: right;\">\n",
       "      <th></th>\n",
       "      <th>index</th>\n",
       "      <th>Received_Free_Food</th>\n",
       "      <th>Food_Insecurity</th>\n",
       "      <th>Enrolled_in_SNAP</th>\n",
       "    </tr>\n",
       "  </thead>\n",
       "  <tbody>\n",
       "    <tr>\n",
       "      <th>0</th>\n",
       "      <td>Intercept</td>\n",
       "      <td>0.0595***</td>\n",
       "      <td>0.0879***</td>\n",
       "      <td>0.0874***</td>\n",
       "    </tr>\n",
       "    <tr>\n",
       "      <th>1</th>\n",
       "      <td>NaN</td>\n",
       "      <td>(0.0028)</td>\n",
       "      <td>(0.0038)</td>\n",
       "      <td>(0.0036)</td>\n",
       "    </tr>\n",
       "    <tr>\n",
       "      <th>2</th>\n",
       "      <td>C(Week)[T.27]</td>\n",
       "      <td>-0.0021</td>\n",
       "      <td>-0.0056</td>\n",
       "      <td>-0.0023</td>\n",
       "    </tr>\n",
       "    <tr>\n",
       "      <th>3</th>\n",
       "      <td>NaN</td>\n",
       "      <td>(0.0038)</td>\n",
       "      <td>(0.0054)</td>\n",
       "      <td>(0.0050)</td>\n",
       "    </tr>\n",
       "    <tr>\n",
       "      <th>4</th>\n",
       "      <td>C(Week)[T.28]</td>\n",
       "      <td>-0.0059</td>\n",
       "      <td>-0.0192***</td>\n",
       "      <td>-0.0039</td>\n",
       "    </tr>\n",
       "    <tr>\n",
       "      <th>...</th>\n",
       "      <td>...</td>\n",
       "      <td>...</td>\n",
       "      <td>...</td>\n",
       "      <td>...</td>\n",
       "    </tr>\n",
       "    <tr>\n",
       "      <th>78</th>\n",
       "      <td>C(Week)[T.45]:Eligible</td>\n",
       "      <td>-0.0460***</td>\n",
       "      <td>0.0035</td>\n",
       "      <td>-0.0122</td>\n",
       "    </tr>\n",
       "    <tr>\n",
       "      <th>79</th>\n",
       "      <td>NaN</td>\n",
       "      <td>(0.0103)</td>\n",
       "      <td>(0.0119)</td>\n",
       "      <td>(0.0128)</td>\n",
       "    </tr>\n",
       "    <tr>\n",
       "      <th>80</th>\n",
       "      <td>R-squared</td>\n",
       "      <td>0.0154</td>\n",
       "      <td>0.0088</td>\n",
       "      <td>0.0372</td>\n",
       "    </tr>\n",
       "    <tr>\n",
       "      <th>81</th>\n",
       "      <td>R-squared Adj.</td>\n",
       "      <td>0.0153</td>\n",
       "      <td>0.0088</td>\n",
       "      <td>0.0372</td>\n",
       "    </tr>\n",
       "    <tr>\n",
       "      <th>82</th>\n",
       "      <td>N</td>\n",
       "      <td>842783</td>\n",
       "      <td>842783</td>\n",
       "      <td>842783</td>\n",
       "    </tr>\n",
       "  </tbody>\n",
       "</table>\n",
       "<p>83 rows × 4 columns</p>\n",
       "</div>"
      ],
      "text/plain": [
       "                     index Received_Free_Food Food_Insecurity Enrolled_in_SNAP\n",
       "0                Intercept          0.0595***       0.0879***        0.0874***\n",
       "1                      NaN           (0.0028)        (0.0038)         (0.0036)\n",
       "2            C(Week)[T.27]            -0.0021         -0.0056          -0.0023\n",
       "3                      NaN           (0.0038)        (0.0054)         (0.0050)\n",
       "4            C(Week)[T.28]            -0.0059      -0.0192***          -0.0039\n",
       "..                     ...                ...             ...              ...\n",
       "78  C(Week)[T.45]:Eligible         -0.0460***          0.0035          -0.0122\n",
       "79                     NaN           (0.0103)        (0.0119)         (0.0128)\n",
       "80               R-squared             0.0154          0.0088           0.0372\n",
       "81          R-squared Adj.             0.0153          0.0088           0.0372\n",
       "82                       N             842783          842783           842783\n",
       "\n",
       "[83 rows x 4 columns]"
      ]
     },
     "execution_count": 10,
     "metadata": {},
     "output_type": "execute_result"
    }
   ],
   "source": [
    "output_table"
   ]
  },
  {
   "cell_type": "code",
   "execution_count": null,
   "metadata": {},
   "outputs": [],
   "source": []
  }
 ],
 "metadata": {
  "kernelspec": {
   "display_name": "Python 3.9.12 ('base')",
   "language": "python",
   "name": "python3"
  },
  "language_info": {
   "codemirror_mode": {
    "name": "ipython",
    "version": 3
   },
   "file_extension": ".py",
   "mimetype": "text/x-python",
   "name": "python",
   "nbconvert_exporter": "python",
   "pygments_lexer": "ipython3",
   "version": "3.9.12"
  },
  "orig_nbformat": 4,
  "vscode": {
   "interpreter": {
    "hash": "2fb3e3cc635cfb08fd7ff4ababbec3e46cec7b961d3626ef22719eb44f0b8a49"
   }
  }
 },
 "nbformat": 4,
 "nbformat_minor": 2
}
