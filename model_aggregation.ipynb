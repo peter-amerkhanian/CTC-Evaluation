{
 "cells": [
  {
   "cell_type": "code",
   "execution_count": 12,
   "metadata": {},
   "outputs": [],
   "source": [
    "import pandas as pd\n",
    "import pickle\n",
    "import statsmodels.api as sm\n",
    "from statsmodels.iolib.summary2 import summary_col\n",
    "from statsmodels.iolib.smpickle import load_pickle\n",
    "\n",
    "dependent_vars = ['Depressed', 'Anxious', 'Received_Free_Food', 'Food_Insecurity', 'Difficulty_with_Expenses', 'Rent_Confidence']"
   ]
  },
  {
   "cell_type": "code",
   "execution_count": 13,
   "metadata": {},
   "outputs": [
    {
     "ename": "KeyboardInterrupt",
     "evalue": "",
     "output_type": "error",
     "traceback": [
      "\u001b[1;31m---------------------------------------------------------------------------\u001b[0m",
      "\u001b[1;31mKeyboardInterrupt\u001b[0m                         Traceback (most recent call last)",
      "\u001b[1;32mc:\\Users\\peteramerkhanian\\Desktop\\PP290\\Final Project\\model_aggregation.ipynb Cell 2\u001b[0m in \u001b[0;36m<cell line: 2>\u001b[1;34m()\u001b[0m\n\u001b[0;32m      <a href='vscode-notebook-cell:/c%3A/Users/peteramerkhanian/Desktop/PP290/Final%20Project/model_aggregation.ipynb#W0sZmlsZQ%3D%3D?line=2'>3</a>\u001b[0m models \u001b[39m=\u001b[39m []\n\u001b[0;32m      <a href='vscode-notebook-cell:/c%3A/Users/peteramerkhanian/Desktop/PP290/Final%20Project/model_aggregation.ipynb#W0sZmlsZQ%3D%3D?line=3'>4</a>\u001b[0m \u001b[39mfor\u001b[39;00m kids \u001b[39min\u001b[39;00m [\u001b[39m\"\u001b[39m\u001b[39mNone\u001b[39m\u001b[39m\"\u001b[39m, \u001b[39m\"\u001b[39m\u001b[39m1\u001b[39m\u001b[39m\"\u001b[39m, \u001b[39m\"\u001b[39m\u001b[39m2\u001b[39m\u001b[39m\"\u001b[39m, \u001b[39m\"\u001b[39m\u001b[39m3\u001b[39m\u001b[39m\"\u001b[39m, \u001b[39m\"\u001b[39m\u001b[39m4\u001b[39m\u001b[39m\"\u001b[39m]:\n\u001b[1;32m----> <a href='vscode-notebook-cell:/c%3A/Users/peteramerkhanian/Desktop/PP290/Final%20Project/model_aggregation.ipynb#W0sZmlsZQ%3D%3D?line=4'>5</a>\u001b[0m     models\u001b[39m.\u001b[39mappend(load_pickle(\u001b[39mf\u001b[39;49m\u001b[39m\"\u001b[39;49m\u001b[39mmodels\u001b[39;49m\u001b[39m\\\u001b[39;49m\u001b[39m{\u001b[39;49;00mvar\u001b[39m}\u001b[39;49;00m\u001b[39m_fe_model_\u001b[39;49m\u001b[39m{\u001b[39;49;00mkids\u001b[39m}\u001b[39;49;00m\u001b[39m_kids.p\u001b[39;49m\u001b[39m\"\u001b[39;49m))\n\u001b[0;32m      <a href='vscode-notebook-cell:/c%3A/Users/peteramerkhanian/Desktop/PP290/Final%20Project/model_aggregation.ipynb#W0sZmlsZQ%3D%3D?line=5'>6</a>\u001b[0m output_table \u001b[39m=\u001b[39m pd\u001b[39m.\u001b[39mread_html(\n\u001b[0;32m      <a href='vscode-notebook-cell:/c%3A/Users/peteramerkhanian/Desktop/PP290/Final%20Project/model_aggregation.ipynb#W0sZmlsZQ%3D%3D?line=6'>7</a>\u001b[0m     summary_col([\u001b[39m*\u001b[39mmodels],\n\u001b[0;32m      <a href='vscode-notebook-cell:/c%3A/Users/peteramerkhanian/Desktop/PP290/Final%20Project/model_aggregation.ipynb#W0sZmlsZQ%3D%3D?line=7'>8</a>\u001b[0m                 stars\u001b[39m=\u001b[39m\u001b[39mTrue\u001b[39;00m,\n\u001b[1;32m   (...)\u001b[0m\n\u001b[0;32m     <a href='vscode-notebook-cell:/c%3A/Users/peteramerkhanian/Desktop/PP290/Final%20Project/model_aggregation.ipynb#W0sZmlsZQ%3D%3D?line=11'>12</a>\u001b[0m         \u001b[39m\"\u001b[39m\u001b[39mN\u001b[39m\u001b[39m\"\u001b[39m: \u001b[39mlambda\u001b[39;00m x: (\u001b[39mstr\u001b[39m(\u001b[39mint\u001b[39m(x\u001b[39m.\u001b[39mnobs))), \u001b[39m\"\u001b[39m\u001b[39mFixed Effects\u001b[39m\u001b[39m\"\u001b[39m: \u001b[39mlambda\u001b[39;00m x: \u001b[39m\"\u001b[39m\u001b[39mWeek/Group\u001b[39m\u001b[39m\"\u001b[39m})\n\u001b[0;32m     <a href='vscode-notebook-cell:/c%3A/Users/peteramerkhanian/Desktop/PP290/Final%20Project/model_aggregation.ipynb#W0sZmlsZQ%3D%3D?line=12'>13</a>\u001b[0m     \u001b[39m.\u001b[39mas_html(), header\u001b[39m=\u001b[39m\u001b[39m0\u001b[39m, index_col\u001b[39m=\u001b[39m\u001b[39m0\u001b[39m)[\u001b[39m0\u001b[39m]\n\u001b[0;32m     <a href='vscode-notebook-cell:/c%3A/Users/peteramerkhanian/Desktop/PP290/Final%20Project/model_aggregation.ipynb#W0sZmlsZQ%3D%3D?line=13'>14</a>\u001b[0m output_table\u001b[39m.\u001b[39mcolumns \u001b[39m=\u001b[39m [\u001b[39m'\u001b[39m\u001b[39mChildren Generally\u001b[39m\u001b[39m'\u001b[39m, \u001b[39m'\u001b[39m\u001b[39mOne Child\u001b[39m\u001b[39m'\u001b[39m, \u001b[39m'\u001b[39m\u001b[39mTwo Children\u001b[39m\u001b[39m'\u001b[39m, \u001b[39m'\u001b[39m\u001b[39mThree Children\u001b[39m\u001b[39m'\u001b[39m, \u001b[39m'\u001b[39m\u001b[39mFour Children\u001b[39m\u001b[39m'\u001b[39m]\n",
      "File \u001b[1;32mc:\\Users\\peteramerkhanian\\anaconda3\\lib\\site-packages\\statsmodels\\iolib\\smpickle.py:42\u001b[0m, in \u001b[0;36mload_pickle\u001b[1;34m(fname)\u001b[0m\n\u001b[0;32m     39\u001b[0m \u001b[39mimport\u001b[39;00m \u001b[39mpickle\u001b[39;00m\n\u001b[0;32m     41\u001b[0m \u001b[39mwith\u001b[39;00m get_file_obj(fname, \u001b[39m\"\u001b[39m\u001b[39mrb\u001b[39m\u001b[39m\"\u001b[39m) \u001b[39mas\u001b[39;00m fin:\n\u001b[1;32m---> 42\u001b[0m     \u001b[39mreturn\u001b[39;00m pickle\u001b[39m.\u001b[39;49mload(fin)\n",
      "File \u001b[1;32mc:\\Users\\peteramerkhanian\\anaconda3\\lib\\site-packages\\statsmodels\\base\\data.py:110\u001b[0m, in \u001b[0;36mModelData.__setstate__\u001b[1;34m(self, d)\u001b[0m\n\u001b[0;32m    108\u001b[0m \u001b[39mfor\u001b[39;00m depth \u001b[39min\u001b[39;00m [\u001b[39m2\u001b[39m, \u001b[39m3\u001b[39m, \u001b[39m1\u001b[39m, \u001b[39m0\u001b[39m, \u001b[39m4\u001b[39m]:  \u001b[39m# sequence is a guess where to likely find it\u001b[39;00m\n\u001b[0;32m    109\u001b[0m     \u001b[39mtry\u001b[39;00m:\n\u001b[1;32m--> 110\u001b[0m         _, design \u001b[39m=\u001b[39m dmatrices(d[\u001b[39m'\u001b[39;49m\u001b[39mformula\u001b[39;49m\u001b[39m'\u001b[39;49m], data, eval_env\u001b[39m=\u001b[39;49mdepth,\n\u001b[0;32m    111\u001b[0m                               return_type\u001b[39m=\u001b[39;49m\u001b[39m'\u001b[39;49m\u001b[39mdataframe\u001b[39;49m\u001b[39m'\u001b[39;49m)\n\u001b[0;32m    112\u001b[0m         \u001b[39mbreak\u001b[39;00m\n\u001b[0;32m    113\u001b[0m     \u001b[39mexcept\u001b[39;00m (\u001b[39mNameError\u001b[39;00m, PatsyError) \u001b[39mas\u001b[39;00m e:\n",
      "File \u001b[1;32mc:\\Users\\peteramerkhanian\\anaconda3\\lib\\site-packages\\patsy\\highlevel.py:309\u001b[0m, in \u001b[0;36mdmatrices\u001b[1;34m(formula_like, data, eval_env, NA_action, return_type)\u001b[0m\n\u001b[0;32m    299\u001b[0m \u001b[39m\"\"\"Construct two design matrices given a formula_like and data.\u001b[39;00m\n\u001b[0;32m    300\u001b[0m \n\u001b[0;32m    301\u001b[0m \u001b[39mThis function is identical to :func:`dmatrix`, except that it requires\u001b[39;00m\n\u001b[1;32m   (...)\u001b[0m\n\u001b[0;32m    306\u001b[0m \u001b[39mSee :func:`dmatrix` for details.\u001b[39;00m\n\u001b[0;32m    307\u001b[0m \u001b[39m\"\"\"\u001b[39;00m\n\u001b[0;32m    308\u001b[0m eval_env \u001b[39m=\u001b[39m EvalEnvironment\u001b[39m.\u001b[39mcapture(eval_env, reference\u001b[39m=\u001b[39m\u001b[39m1\u001b[39m)\n\u001b[1;32m--> 309\u001b[0m (lhs, rhs) \u001b[39m=\u001b[39m _do_highlevel_design(formula_like, data, eval_env,\n\u001b[0;32m    310\u001b[0m                                   NA_action, return_type)\n\u001b[0;32m    311\u001b[0m \u001b[39mif\u001b[39;00m lhs\u001b[39m.\u001b[39mshape[\u001b[39m1\u001b[39m] \u001b[39m==\u001b[39m \u001b[39m0\u001b[39m:\n\u001b[0;32m    312\u001b[0m     \u001b[39mraise\u001b[39;00m PatsyError(\u001b[39m\"\u001b[39m\u001b[39mmodel is missing required outcome variables\u001b[39m\u001b[39m\"\u001b[39m)\n",
      "File \u001b[1;32mc:\\Users\\peteramerkhanian\\anaconda3\\lib\\site-packages\\patsy\\highlevel.py:167\u001b[0m, in \u001b[0;36m_do_highlevel_design\u001b[1;34m(formula_like, data, eval_env, NA_action, return_type)\u001b[0m\n\u001b[0;32m    164\u001b[0m design_infos \u001b[39m=\u001b[39m _try_incr_builders(formula_like, data_iter_maker, eval_env,\n\u001b[0;32m    165\u001b[0m                                   NA_action)\n\u001b[0;32m    166\u001b[0m \u001b[39mif\u001b[39;00m design_infos \u001b[39mis\u001b[39;00m \u001b[39mnot\u001b[39;00m \u001b[39mNone\u001b[39;00m:\n\u001b[1;32m--> 167\u001b[0m     \u001b[39mreturn\u001b[39;00m build_design_matrices(design_infos, data,\n\u001b[0;32m    168\u001b[0m                                  NA_action\u001b[39m=\u001b[39;49mNA_action,\n\u001b[0;32m    169\u001b[0m                                  return_type\u001b[39m=\u001b[39;49mreturn_type)\n\u001b[0;32m    170\u001b[0m \u001b[39melse\u001b[39;00m:\n\u001b[0;32m    171\u001b[0m     \u001b[39m# No builders, but maybe we can still get matrices\u001b[39;00m\n\u001b[0;32m    172\u001b[0m     \u001b[39mif\u001b[39;00m \u001b[39misinstance\u001b[39m(formula_like, \u001b[39mtuple\u001b[39m):\n",
      "File \u001b[1;32mc:\\Users\\peteramerkhanian\\anaconda3\\lib\\site-packages\\patsy\\build.py:888\u001b[0m, in \u001b[0;36mbuild_design_matrices\u001b[1;34m(design_infos, data, NA_action, return_type, dtype)\u001b[0m\n\u001b[0;32m    886\u001b[0m \u001b[39mfor\u001b[39;00m factor_info \u001b[39min\u001b[39;00m six\u001b[39m.\u001b[39mitervalues(design_info\u001b[39m.\u001b[39mfactor_infos):\n\u001b[0;32m    887\u001b[0m     \u001b[39mif\u001b[39;00m factor_info \u001b[39mnot\u001b[39;00m \u001b[39min\u001b[39;00m factor_info_to_values:\n\u001b[1;32m--> 888\u001b[0m         value, is_NA \u001b[39m=\u001b[39m _eval_factor(factor_info, data, NA_action)\n\u001b[0;32m    889\u001b[0m         factor_info_to_isNAs[factor_info] \u001b[39m=\u001b[39m is_NA\n\u001b[0;32m    890\u001b[0m         \u001b[39m# value may now be a Series, DataFrame, or ndarray\u001b[39;00m\n",
      "File \u001b[1;32mc:\\Users\\peteramerkhanian\\anaconda3\\lib\\site-packages\\patsy\\build.py:84\u001b[0m, in \u001b[0;36m_eval_factor\u001b[1;34m(factor_info, data, NA_action)\u001b[0m\n\u001b[0;32m     81\u001b[0m \u001b[39m# returns either a 1d ndarray or a pandas.Series, plus is_NA mask\u001b[39;00m\n\u001b[0;32m     82\u001b[0m \u001b[39melse\u001b[39;00m:\n\u001b[0;32m     83\u001b[0m     \u001b[39massert\u001b[39;00m factor_info\u001b[39m.\u001b[39mtype \u001b[39m==\u001b[39m \u001b[39m\"\u001b[39m\u001b[39mcategorical\u001b[39m\u001b[39m\"\u001b[39m\n\u001b[1;32m---> 84\u001b[0m     result \u001b[39m=\u001b[39m categorical_to_int(result, factor_info\u001b[39m.\u001b[39;49mcategories, NA_action,\n\u001b[0;32m     85\u001b[0m                                 origin\u001b[39m=\u001b[39;49mfactor_info\u001b[39m.\u001b[39;49mfactor)\n\u001b[0;32m     86\u001b[0m     \u001b[39massert\u001b[39;00m result\u001b[39m.\u001b[39mndim \u001b[39m==\u001b[39m \u001b[39m1\u001b[39m\n\u001b[0;32m     87\u001b[0m     \u001b[39mreturn\u001b[39;00m result, np\u001b[39m.\u001b[39masarray(result \u001b[39m==\u001b[39m \u001b[39m-\u001b[39m\u001b[39m1\u001b[39m)\n",
      "File \u001b[1;32mc:\\Users\\peteramerkhanian\\anaconda3\\lib\\site-packages\\patsy\\categorical.py:342\u001b[0m, in \u001b[0;36mcategorical_to_int\u001b[1;34m(data, levels, NA_action, origin)\u001b[0m\n\u001b[0;32m    340\u001b[0m out \u001b[39m=\u001b[39m np\u001b[39m.\u001b[39mempty(\u001b[39mlen\u001b[39m(data), dtype\u001b[39m=\u001b[39m\u001b[39mint\u001b[39m)\n\u001b[0;32m    341\u001b[0m \u001b[39mfor\u001b[39;00m i, value \u001b[39min\u001b[39;00m \u001b[39menumerate\u001b[39m(data):\n\u001b[1;32m--> 342\u001b[0m     \u001b[39mif\u001b[39;00m NA_action\u001b[39m.\u001b[39;49mis_categorical_NA(value):\n\u001b[0;32m    343\u001b[0m         out[i] \u001b[39m=\u001b[39m \u001b[39m-\u001b[39m\u001b[39m1\u001b[39m\n\u001b[0;32m    344\u001b[0m     \u001b[39melse\u001b[39;00m:\n",
      "File \u001b[1;32mc:\\Users\\peteramerkhanian\\anaconda3\\lib\\site-packages\\patsy\\missing.py:123\u001b[0m, in \u001b[0;36mNAAction.is_categorical_NA\u001b[1;34m(self, obj)\u001b[0m\n\u001b[0;32m    119\u001b[0m \u001b[39mdef\u001b[39;00m \u001b[39mis_categorical_NA\u001b[39m(\u001b[39mself\u001b[39m, obj):\n\u001b[0;32m    120\u001b[0m     \u001b[39m\"\"\"Return True if `obj` is a categorical NA value.\u001b[39;00m\n\u001b[0;32m    121\u001b[0m \n\u001b[0;32m    122\u001b[0m \u001b[39m    Note that here `obj` is a single scalar value.\"\"\"\u001b[39;00m\n\u001b[1;32m--> 123\u001b[0m     \u001b[39mif\u001b[39;00m \u001b[39m\"\u001b[39m\u001b[39mNaN\u001b[39m\u001b[39m\"\u001b[39m \u001b[39min\u001b[39;00m \u001b[39mself\u001b[39m\u001b[39m.\u001b[39mNA_types \u001b[39mand\u001b[39;00m safe_scalar_isnan(obj):\n\u001b[0;32m    124\u001b[0m         \u001b[39mreturn\u001b[39;00m \u001b[39mTrue\u001b[39;00m\n\u001b[0;32m    125\u001b[0m     \u001b[39mif\u001b[39;00m \u001b[39m\"\u001b[39m\u001b[39mNone\u001b[39m\u001b[39m\"\u001b[39m \u001b[39min\u001b[39;00m \u001b[39mself\u001b[39m\u001b[39m.\u001b[39mNA_types \u001b[39mand\u001b[39;00m obj \u001b[39mis\u001b[39;00m \u001b[39mNone\u001b[39;00m:\n",
      "File \u001b[1;32mc:\\Users\\peteramerkhanian\\anaconda3\\lib\\site-packages\\patsy\\util.py:558\u001b[0m, in \u001b[0;36msafe_scalar_isnan\u001b[1;34m(x)\u001b[0m\n\u001b[0;32m    556\u001b[0m \u001b[39mdef\u001b[39;00m \u001b[39msafe_scalar_isnan\u001b[39m(x):\n\u001b[0;32m    557\u001b[0m     \u001b[39mtry\u001b[39;00m:\n\u001b[1;32m--> 558\u001b[0m         \u001b[39mreturn\u001b[39;00m np\u001b[39m.\u001b[39misnan(\u001b[39mfloat\u001b[39m(x))\n\u001b[0;32m    559\u001b[0m     \u001b[39mexcept\u001b[39;00m (\u001b[39mTypeError\u001b[39;00m, \u001b[39mValueError\u001b[39;00m, \u001b[39mNotImplementedError\u001b[39;00m):\n\u001b[0;32m    560\u001b[0m         \u001b[39mreturn\u001b[39;00m \u001b[39mFalse\u001b[39;00m\n",
      "\u001b[1;31mKeyboardInterrupt\u001b[0m: "
     ]
    }
   ],
   "source": [
    "\n",
    "results = []\n",
    "for var in dependent_vars:\n",
    "    models = []\n",
    "    for kids in [\"None\", \"1\", \"2\", \"3\", \"4\"]:\n",
    "        models.append(load_pickle(f\"models\\{var}_fe_model_{kids}_kids.p\"))\n",
    "    output_table = pd.read_html(\n",
    "        summary_col([*models],\n",
    "                    stars=True,\n",
    "                    regressor_order=[\"Treat\"],\n",
    "                    drop_omitted=True,\n",
    "                    info_dict={\n",
    "            \"N\": lambda x: (str(int(x.nobs))), \"Fixed Effects\": lambda x: \"Week/Group\"})\n",
    "        .as_html(), header=0, index_col=0)[0]\n",
    "    output_table.columns = ['Children Generally', 'One Child', 'Two Children', 'Three Children', 'Four Children']\n",
    "    output_table.index = 'Treat', '', 'R-squared', 'R-squared Adj.', 'N', 'Fixed Effects'\n",
    "    results.append(output_table)"
   ]
  },
  {
   "cell_type": "code",
   "execution_count": null,
   "metadata": {},
   "outputs": [],
   "source": [
    "new_index = []\n",
    "for ind, var in enumerate(dependent_vars):\n",
    "    new_index.append(var)\n",
    "    if ind+1 % 2 != 0:\n",
    "        new_index.append(\"\")"
   ]
  },
  {
   "cell_type": "code",
   "execution_count": null,
   "metadata": {},
   "outputs": [
    {
     "name": "stdout",
     "output_type": "stream",
     "text": [
      ",Children Generally,One Child,Two Children,Three Children,Four Children\n",
      "Depressed,0.0002,0.0030,-0.0050,0.0081,-0.0056\n",
      ",(0.0043),(0.0057),(0.0065),(0.0113),(0.0172)\n",
      "Anxious,0.0176***,0.0169***,0.0115,0.0210*,0.0577***\n",
      ",(0.0047),(0.0064),(0.0073),(0.0125),(0.0209)\n",
      "Received Free Food,-0.0181***,-0.0141***,-0.0168***,-0.0218**,-0.0485***\n",
      ",(0.0033),(0.0042),(0.0053),(0.0095),(0.0169)\n",
      "Food Insecurity,-0.0256***,-0.0206***,-0.0264***,-0.0375***,-0.0395**\n",
      ",(0.0037),(0.0049),(0.0058),(0.0090),(0.0180)\n",
      "Difficulty with Expenses,-0.0052,-0.0031,-0.0111,-0.0024,-0.0006\n",
      ",(0.0051),(0.0068),(0.0080),(0.0133),(0.0215)\n",
      "Rent Confidence,0.0127**,0.0099,0.0184**,0.0155,0.0286\n",
      ",(0.0051),(0.0068),(0.0080),(0.0132),(0.0216)\n",
      "N,842783,713637,679113,628867,608418\n",
      "Fixed Effects,Week/Group,Week/Group,Week/Group,Week/Group,Week/Group\n",
      "\n"
     ]
    }
   ],
   "source": [
    "all_results = pd.concat([result.iloc[:2, :] for result in results])\n",
    "all_results.index = new_index\n",
    "print(pd.concat([all_results, results[0].iloc[-2:, :]]).to_csv().replace(\"_\", \" \"))"
   ]
  },
  {
   "cell_type": "code",
   "execution_count": 16,
   "metadata": {},
   "outputs": [],
   "source": [
    "\n",
    "models = []\n",
    "for var in dependent_vars:\n",
    "    models.append(load_pickle(f\"models\\{var}_event_study_None_kids.p\"))\n"
   ]
  },
  {
   "cell_type": "code",
   "execution_count": 21,
   "metadata": {},
   "outputs": [],
   "source": [
    "output_table = pd.read_html(\n",
    "    summary_col([*models],\n",
    "                stars=True,\n",
    "                info_dict={\n",
    "        \"N\": lambda x: (str(int(x.nobs)))})\n",
    "    .as_html(), header=0, index_col=0)[0]\n",
    "# output_table.columns = ['Children Generally', 'One Child',\n",
    "#                         'Two Children', 'Three Children', 'Four Children']\n",
    "# output_table.index = 'Treat', '', 'R-squared', 'R-squared Adj.', 'N', 'Fixed Effects'\n",
    "# results.append(output_table)"
   ]
  },
  {
   "cell_type": "code",
   "execution_count": 24,
   "metadata": {},
   "outputs": [],
   "source": [
    "output_table = output_table.reset_index()"
   ]
  },
  {
   "cell_type": "code",
   "execution_count": 37,
   "metadata": {},
   "outputs": [
    {
     "name": "stdout",
     "output_type": "stream",
     "text": [
      "Coefficient,Depressed,Anxious,Received Free Food,Food Insecurity,Difficulty with Expenses,Rent Confidence\n",
      "C(Week)[T.27]:Eligible,-0.0188,-0.0081,-0.0204**,-0.0231**,-0.0701***,0.0284**\n",
      "C(Week)[T.28]:Eligible,-0.0106,0.0083,-0.0113,-0.0175,-0.0063,0.0284*\n",
      "C(Week)[T.29]:Eligible,-0.0003,-0.0065,-0.0194**,-0.0101,-0.0308**,0.0291**\n",
      "C(Week)[T.30]:Eligible,-0.0028,0.0128,-0.0076,-0.0007,-0.0117,0.0112\n",
      "C(Week)[T.31]:Eligible,-0.0024,0.0108,-0.0268***,-0.0072,-0.0016,0.0081\n",
      "C(Week)[T.32]:Eligible,0.0046,0.0101,-0.0289***,-0.0008,-0.0215,0.0182\n",
      "C(Week)[T.33]:Eligible,0.0054,0.0284**,-0.0169*,0.0087,0.0029,0.0251*\n",
      "C(Week)[T.34]:Eligible,0.0045,0.0374***,-0.0425***,-0.0358***,-0.0182,0.0056\n",
      "C(Week)[T.35]:Eligible,-0.0007,0.0307**,-0.0582***,-0.0416***,-0.0133,0.0459***\n",
      "C(Week)[T.36]:Eligible,0.0003,0.0429***,-0.0522***,-0.0261**,-0.0311**,0.0221\n",
      "C(Week)[T.37]:Eligible,-0.0092,0.0118,-0.0536***,-0.0347***,-0.0163,0.0216\n",
      "C(Week)[T.38]:Eligible,-0.0036,0.0194,-0.0539***,-0.0324***,-0.0120,0.0294**\n",
      "C(Week)[T.39]:Eligible,-0.0001,0.0289**,-0.0382***,-0.0375***,-0.0100,0.0287*\n",
      "C(Week)[T.40]:Eligible,-0.0059,0.0115,-0.0382***,-0.0261**,-0.0096,0.0037\n",
      "C(Week)[T.41]:Eligible,-0.0016,0.0057,-0.0508***,-0.0184*,-0.0183,0.0105\n",
      "C(Week)[T.42]:Eligible,0.0088,0.0331***,-0.0496***,-0.0055,0.0135,0.0075\n",
      "C(Week)[T.43]:Eligible,-0.0082,0.0105,-0.0606***,-0.0153,-0.0076,0.0076\n",
      "C(Week)[T.44]:Eligible,-0.0020,0.0083,-0.0563***,-0.0117,-0.0111,0.0088\n",
      "C(Week)[T.45]:Eligible,0.0100,0.0261*,-0.0460***,0.0035,0.0074,-0.0016\n",
      "\n"
     ]
    }
   ],
   "source": [
    "print(output_table[output_table['index'].str.startswith(\"C(Week)\") & output_table['index'].str.endswith(\":Eligible\")].rename(columns={\"index\": \"Coefficient\"}).to_csv(index=False).replace(\"_\", \" \"))"
   ]
  },
  {
   "cell_type": "code",
   "execution_count": 28,
   "metadata": {},
   "outputs": [
    {
     "data": {
      "text/html": [
       "<div>\n",
       "<style scoped>\n",
       "    .dataframe tbody tr th:only-of-type {\n",
       "        vertical-align: middle;\n",
       "    }\n",
       "\n",
       "    .dataframe tbody tr th {\n",
       "        vertical-align: top;\n",
       "    }\n",
       "\n",
       "    .dataframe thead th {\n",
       "        text-align: right;\n",
       "    }\n",
       "</style>\n",
       "<table border=\"1\" class=\"dataframe\">\n",
       "  <thead>\n",
       "    <tr style=\"text-align: right;\">\n",
       "      <th></th>\n",
       "      <th>index</th>\n",
       "      <th>Depressed</th>\n",
       "      <th>Anxious</th>\n",
       "      <th>Received_Free_Food</th>\n",
       "      <th>Food_Insecurity</th>\n",
       "      <th>Difficulty_with_Expenses</th>\n",
       "      <th>Rent_Confidence</th>\n",
       "    </tr>\n",
       "  </thead>\n",
       "  <tbody>\n",
       "    <tr>\n",
       "      <th>0</th>\n",
       "      <td>Intercept</td>\n",
       "      <td>0.2177***</td>\n",
       "      <td>0.3005***</td>\n",
       "      <td>0.0595***</td>\n",
       "      <td>0.0879***</td>\n",
       "      <td>0.3059***</td>\n",
       "      <td>0.5891***</td>\n",
       "    </tr>\n",
       "    <tr>\n",
       "      <th>1</th>\n",
       "      <td>NaN</td>\n",
       "      <td>(0.0044)</td>\n",
       "      <td>(0.0048)</td>\n",
       "      <td>(0.0028)</td>\n",
       "      <td>(0.0038)</td>\n",
       "      <td>(0.0051)</td>\n",
       "      <td>(0.0051)</td>\n",
       "    </tr>\n",
       "    <tr>\n",
       "      <th>2</th>\n",
       "      <td>C(Week)[T.27]</td>\n",
       "      <td>-0.0060</td>\n",
       "      <td>-0.0167**</td>\n",
       "      <td>-0.0021</td>\n",
       "      <td>-0.0056</td>\n",
       "      <td>-0.0348***</td>\n",
       "      <td>0.0146**</td>\n",
       "    </tr>\n",
       "    <tr>\n",
       "      <th>3</th>\n",
       "      <td>NaN</td>\n",
       "      <td>(0.0064)</td>\n",
       "      <td>(0.0068)</td>\n",
       "      <td>(0.0038)</td>\n",
       "      <td>(0.0054)</td>\n",
       "      <td>(0.0072)</td>\n",
       "      <td>(0.0074)</td>\n",
       "    </tr>\n",
       "    <tr>\n",
       "      <th>4</th>\n",
       "      <td>C(Week)[T.28]</td>\n",
       "      <td>-0.0266***</td>\n",
       "      <td>-0.0413***</td>\n",
       "      <td>-0.0059</td>\n",
       "      <td>-0.0192***</td>\n",
       "      <td>-0.0784***</td>\n",
       "      <td>0.0006</td>\n",
       "    </tr>\n",
       "    <tr>\n",
       "      <th>...</th>\n",
       "      <td>...</td>\n",
       "      <td>...</td>\n",
       "      <td>...</td>\n",
       "      <td>...</td>\n",
       "      <td>...</td>\n",
       "      <td>...</td>\n",
       "      <td>...</td>\n",
       "    </tr>\n",
       "    <tr>\n",
       "      <th>78</th>\n",
       "      <td>C(Week)[T.45]:Eligible</td>\n",
       "      <td>0.0100</td>\n",
       "      <td>0.0261*</td>\n",
       "      <td>-0.0460***</td>\n",
       "      <td>0.0035</td>\n",
       "      <td>0.0074</td>\n",
       "      <td>-0.0016</td>\n",
       "    </tr>\n",
       "    <tr>\n",
       "      <th>79</th>\n",
       "      <td>NaN</td>\n",
       "      <td>(0.0130)</td>\n",
       "      <td>(0.0138)</td>\n",
       "      <td>(0.0103)</td>\n",
       "      <td>(0.0119)</td>\n",
       "      <td>(0.0146)</td>\n",
       "      <td>(0.0147)</td>\n",
       "    </tr>\n",
       "    <tr>\n",
       "      <th>80</th>\n",
       "      <td>R-squared</td>\n",
       "      <td>0.0014</td>\n",
       "      <td>0.0058</td>\n",
       "      <td>0.0154</td>\n",
       "      <td>0.0088</td>\n",
       "      <td>0.0255</td>\n",
       "      <td>0.0012</td>\n",
       "    </tr>\n",
       "    <tr>\n",
       "      <th>81</th>\n",
       "      <td>R-squared Adj.</td>\n",
       "      <td>0.0013</td>\n",
       "      <td>0.0058</td>\n",
       "      <td>0.0153</td>\n",
       "      <td>0.0088</td>\n",
       "      <td>0.0255</td>\n",
       "      <td>0.0012</td>\n",
       "    </tr>\n",
       "    <tr>\n",
       "      <th>82</th>\n",
       "      <td>N</td>\n",
       "      <td>842783</td>\n",
       "      <td>842783</td>\n",
       "      <td>842783</td>\n",
       "      <td>842783</td>\n",
       "      <td>842783</td>\n",
       "      <td>842783</td>\n",
       "    </tr>\n",
       "  </tbody>\n",
       "</table>\n",
       "<p>83 rows × 7 columns</p>\n",
       "</div>"
      ],
      "text/plain": [
       "                     index   Depressed     Anxious Received_Free_Food  \\\n",
       "0                Intercept   0.2177***   0.3005***          0.0595***   \n",
       "1                      NaN    (0.0044)    (0.0048)           (0.0028)   \n",
       "2            C(Week)[T.27]     -0.0060   -0.0167**            -0.0021   \n",
       "3                      NaN    (0.0064)    (0.0068)           (0.0038)   \n",
       "4            C(Week)[T.28]  -0.0266***  -0.0413***            -0.0059   \n",
       "..                     ...         ...         ...                ...   \n",
       "78  C(Week)[T.45]:Eligible      0.0100     0.0261*         -0.0460***   \n",
       "79                     NaN    (0.0130)    (0.0138)           (0.0103)   \n",
       "80               R-squared      0.0014      0.0058             0.0154   \n",
       "81          R-squared Adj.      0.0013      0.0058             0.0153   \n",
       "82                       N      842783      842783             842783   \n",
       "\n",
       "   Food_Insecurity Difficulty_with_Expenses Rent_Confidence  \n",
       "0        0.0879***                0.3059***       0.5891***  \n",
       "1         (0.0038)                 (0.0051)        (0.0051)  \n",
       "2          -0.0056               -0.0348***        0.0146**  \n",
       "3         (0.0054)                 (0.0072)        (0.0074)  \n",
       "4       -0.0192***               -0.0784***          0.0006  \n",
       "..             ...                      ...             ...  \n",
       "78          0.0035                   0.0074         -0.0016  \n",
       "79        (0.0119)                 (0.0146)        (0.0147)  \n",
       "80          0.0088                   0.0255          0.0012  \n",
       "81          0.0088                   0.0255          0.0012  \n",
       "82          842783                   842783          842783  \n",
       "\n",
       "[83 rows x 7 columns]"
      ]
     },
     "execution_count": 28,
     "metadata": {},
     "output_type": "execute_result"
    }
   ],
   "source": [
    "output_table"
   ]
  },
  {
   "cell_type": "code",
   "execution_count": null,
   "metadata": {},
   "outputs": [],
   "source": []
  }
 ],
 "metadata": {
  "kernelspec": {
   "display_name": "Python 3.9.12 ('base')",
   "language": "python",
   "name": "python3"
  },
  "language_info": {
   "codemirror_mode": {
    "name": "ipython",
    "version": 3
   },
   "file_extension": ".py",
   "mimetype": "text/x-python",
   "name": "python",
   "nbconvert_exporter": "python",
   "pygments_lexer": "ipython3",
   "version": "3.9.12"
  },
  "orig_nbformat": 4,
  "vscode": {
   "interpreter": {
    "hash": "2fb3e3cc635cfb08fd7ff4ababbec3e46cec7b961d3626ef22719eb44f0b8a49"
   }
  }
 },
 "nbformat": 4,
 "nbformat_minor": 2
}
