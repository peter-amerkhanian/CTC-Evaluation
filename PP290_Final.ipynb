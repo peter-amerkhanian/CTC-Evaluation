{
 "cells": [
  {
   "cell_type": "code",
   "execution_count": 1,
   "id": "ec18a9eb",
   "metadata": {},
   "outputs": [],
   "source": [
    "import pandas as pd\n",
    "import numpy as np\n",
    "import matplotlib.pyplot as plt\n",
    "import seaborn as sns\n",
    "import datetime\n",
    "from scipy import stats\n",
    "import requests\n",
    "import zipfile\n",
    "import io\n",
    "import os\n",
    "import statsmodels.formula.api as smf\n",
    "import statsmodels.api as sm\n",
    "from linearmodels import PanelOLS"
   ]
  },
  {
   "cell_type": "code",
   "execution_count": 2,
   "id": "c17c7abc",
   "metadata": {},
   "outputs": [],
   "source": [
    "from matplotlib import rcParams\n",
    "rcParams['font.family'] = 'calibri'"
   ]
  },
  {
   "cell_type": "code",
   "execution_count": 3,
   "id": "e10628cf",
   "metadata": {},
   "outputs": [],
   "source": [
    "def load_pulse(week):\n",
    "    \"\"\"Get Census Pulse Data\n",
    "    Args:\n",
    "        week (int): Week number to load\n",
    "\n",
    "    Returns:\n",
    "        pd.DataFrame: dataframe of week's data\n",
    "    \"\"\"\n",
    "    year = 2021 if (week >= 22 and week < 41) else 2022 if (week >= 41) else 2020\n",
    "    base_url = \"https://www2.census.gov/programs-surveys/demo/datasets/hhp/\"\n",
    "    zip_url = base_url + f'{year}/wk{week}/HPS_Week{week:02d}_PUF_CSV.zip'\n",
    "    filename = f\"data/pulse_{week}.csv\"\n",
    "    if not os.path.exists(filename):\n",
    "        print(\"Week: \", week)\n",
    "        print(\"Retrieving url: \", zip_url)\n",
    "        response = requests.get(zip_url)\n",
    "        print(\"Unzipping\")\n",
    "        pulse_zip = zipfile.ZipFile(io.BytesIO(response.content))\n",
    "        print(\"Reading into Pandas\")\n",
    "        pulse_csv = pd.read_csv(pulse_zip.open(f'pulse{year}_puf_{week:02d}.csv'))\n",
    "        dictionary_filename = f'pulse{year}_data.dictionary_CSV_{week:02d}.xlsx'\n",
    "        if os.path.exists(dictionary_filename):\n",
    "            dictionary = pd.read_excel(pulse_zip.open(dictionary_filename))\n",
    "            dictionary.to_excel(f'data/pulse{year}_data.dictionary_CSV_{week}.xlsx')\n",
    "            del dictionary\n",
    "        del pulse_zip\n",
    "        print(\"Saving\")\n",
    "        pulse_csv.to_csv(filename)\n",
    "    else:\n",
    "        print(f\"Opening local file for pulse week{week}\")\n",
    "        pulse_csv = pd.read_csv(filename)\n",
    "    return pulse_csv"
   ]
  },
  {
   "cell_type": "code",
   "execution_count": 4,
   "id": "28babd2f",
   "metadata": {},
   "outputs": [
    {
     "name": "stdout",
     "output_type": "stream",
     "text": [
      "Opening local file for pulse week34\n",
      "Opening local file for pulse week35\n",
      "Opening local file for pulse week36\n",
      "Opening local file for pulse week37\n",
      "Opening local file for pulse week38\n",
      "Opening local file for pulse week39\n",
      "Opening local file for pulse week40\n",
      "Opening local file for pulse week41\n",
      "Opening local file for pulse week42\n"
     ]
    }
   ],
   "source": [
    "# Periods: https://www.census.gov/programs-surveys/household-pulse-survey/datasets.html\n",
    "start = 34\n",
    "stop = 42\n",
    "df = load_pulse(start)\n",
    "for week in np.arange(start+1, stop+1, 1):\n",
    "    df_week = load_pulse(week)\n",
    "    df = pd.concat([df, df_week])"
   ]
  },
  {
   "cell_type": "code",
   "execution_count": 5,
   "id": "db7cf35a",
   "metadata": {},
   "outputs": [],
   "source": [
    "# round(df[[\"EIP\"]].value_counts(normalize=True).rename(index={\n",
    "#     1: \"Mostly spend it\",\n",
    "#     2: \"Mostly save it \",\n",
    "#     3: \"Mostly use it to pay off debt\",\n",
    "#     4: \"Not applicable, I did not receive the stimulus payment\",\n",
    "#     -99: \"Question seen but category not selected\",\n",
    "#     -88: \"Missing / Did not report\"\n",
    "# }), 3)\n"
   ]
  },
  {
   "cell_type": "code",
   "execution_count": 6,
   "id": "e4ff34dd",
   "metadata": {},
   "outputs": [
    {
     "data": {
      "text/plain": [
       " 2     454030\n",
       " 1     106889\n",
       "-88     27490\n",
       "-99      5802\n",
       "Name: CTC_YN, dtype: int64"
      ]
     },
     "execution_count": 6,
     "metadata": {},
     "output_type": "execute_result"
    }
   ],
   "source": [
    "df['CTC_YN'].value_counts()"
   ]
  },
  {
   "cell_type": "code",
   "execution_count": 7,
   "id": "c9d96ce4",
   "metadata": {},
   "outputs": [
    {
     "data": {
      "text/plain": [
       "0        1\n",
       "1        2\n",
       "2        2\n",
       "3        2\n",
       "4        1\n",
       "        ..\n",
       "75477    2\n",
       "75478    1\n",
       "75479    1\n",
       "75480    2\n",
       "75481    2\n",
       "Name: CTC_YN, Length: 594211, dtype: int64"
      ]
     },
     "execution_count": 7,
     "metadata": {},
     "output_type": "execute_result"
    }
   ],
   "source": [
    "df['CTC_YN']"
   ]
  },
  {
   "cell_type": "code",
   "execution_count": 8,
   "id": "097897e4",
   "metadata": {},
   "outputs": [
    {
     "name": "stdout",
     "output_type": "stream",
     "text": [
      "(594211, 210)\n"
     ]
    },
    {
     "ename": "KeyError",
     "evalue": "'EIP'",
     "output_type": "error",
     "traceback": [
      "\u001b[1;31m---------------------------------------------------------------------------\u001b[0m",
      "\u001b[1;31mKeyError\u001b[0m                                  Traceback (most recent call last)",
      "File \u001b[1;32mc:\\Users\\peteramerkhanian\\anaconda3\\lib\\site-packages\\pandas\\core\\indexes\\base.py:3621\u001b[0m, in \u001b[0;36mIndex.get_loc\u001b[1;34m(self, key, method, tolerance)\u001b[0m\n\u001b[0;32m   3620\u001b[0m \u001b[39mtry\u001b[39;00m:\n\u001b[1;32m-> 3621\u001b[0m     \u001b[39mreturn\u001b[39;00m \u001b[39mself\u001b[39;49m\u001b[39m.\u001b[39;49m_engine\u001b[39m.\u001b[39;49mget_loc(casted_key)\n\u001b[0;32m   3622\u001b[0m \u001b[39mexcept\u001b[39;00m \u001b[39mKeyError\u001b[39;00m \u001b[39mas\u001b[39;00m err:\n",
      "File \u001b[1;32mc:\\Users\\peteramerkhanian\\anaconda3\\lib\\site-packages\\pandas\\_libs\\index.pyx:136\u001b[0m, in \u001b[0;36mpandas._libs.index.IndexEngine.get_loc\u001b[1;34m()\u001b[0m\n",
      "File \u001b[1;32mc:\\Users\\peteramerkhanian\\anaconda3\\lib\\site-packages\\pandas\\_libs\\index.pyx:163\u001b[0m, in \u001b[0;36mpandas._libs.index.IndexEngine.get_loc\u001b[1;34m()\u001b[0m\n",
      "File \u001b[1;32mpandas\\_libs\\hashtable_class_helper.pxi:5198\u001b[0m, in \u001b[0;36mpandas._libs.hashtable.PyObjectHashTable.get_item\u001b[1;34m()\u001b[0m\n",
      "File \u001b[1;32mpandas\\_libs\\hashtable_class_helper.pxi:5206\u001b[0m, in \u001b[0;36mpandas._libs.hashtable.PyObjectHashTable.get_item\u001b[1;34m()\u001b[0m\n",
      "\u001b[1;31mKeyError\u001b[0m: 'EIP'",
      "\nThe above exception was the direct cause of the following exception:\n",
      "\u001b[1;31mKeyError\u001b[0m                                  Traceback (most recent call last)",
      "\u001b[1;32mc:\\Users\\peteramerkhanian\\Desktop\\PP290\\Final Project\\PP290_Final.ipynb Cell 9\u001b[0m in \u001b[0;36m<cell line: 2>\u001b[1;34m()\u001b[0m\n\u001b[0;32m      <a href='vscode-notebook-cell:/c%3A/Users/peteramerkhanian/Desktop/PP290/Final%20Project/PP290_Final.ipynb#X11sZmlsZQ%3D%3D?line=0'>1</a>\u001b[0m \u001b[39mprint\u001b[39m(df\u001b[39m.\u001b[39mshape)\n\u001b[1;32m----> <a href='vscode-notebook-cell:/c%3A/Users/peteramerkhanian/Desktop/PP290/Final%20Project/PP290_Final.ipynb#X11sZmlsZQ%3D%3D?line=1'>2</a>\u001b[0m df \u001b[39m=\u001b[39m df[\u001b[39m~\u001b[39mdf[\u001b[39m\"\u001b[39;49m\u001b[39mEIP\u001b[39;49m\u001b[39m\"\u001b[39;49m]\u001b[39m.\u001b[39misin([\u001b[39m-\u001b[39m\u001b[39m99\u001b[39m, \u001b[39m-\u001b[39m\u001b[39m88\u001b[39m])]\n\u001b[0;32m      <a href='vscode-notebook-cell:/c%3A/Users/peteramerkhanian/Desktop/PP290/Final%20Project/PP290_Final.ipynb#X11sZmlsZQ%3D%3D?line=2'>3</a>\u001b[0m df \u001b[39m=\u001b[39m df[\u001b[39m~\u001b[39mdf[\u001b[39m\"\u001b[39m\u001b[39mDOWN\u001b[39m\u001b[39m\"\u001b[39m]\u001b[39m.\u001b[39misin([\u001b[39m-\u001b[39m\u001b[39m99\u001b[39m, \u001b[39m-\u001b[39m\u001b[39m88\u001b[39m])]\n\u001b[0;32m      <a href='vscode-notebook-cell:/c%3A/Users/peteramerkhanian/Desktop/PP290/Final%20Project/PP290_Final.ipynb#X11sZmlsZQ%3D%3D?line=3'>4</a>\u001b[0m df \u001b[39m=\u001b[39m df[\u001b[39m~\u001b[39mdf[\u001b[39m\"\u001b[39m\u001b[39mANXIOUS\u001b[39m\u001b[39m\"\u001b[39m]\u001b[39m.\u001b[39misin([\u001b[39m-\u001b[39m\u001b[39m99\u001b[39m, \u001b[39m-\u001b[39m\u001b[39m88\u001b[39m])]\n",
      "File \u001b[1;32mc:\\Users\\peteramerkhanian\\anaconda3\\lib\\site-packages\\pandas\\core\\frame.py:3505\u001b[0m, in \u001b[0;36mDataFrame.__getitem__\u001b[1;34m(self, key)\u001b[0m\n\u001b[0;32m   3503\u001b[0m \u001b[39mif\u001b[39;00m \u001b[39mself\u001b[39m\u001b[39m.\u001b[39mcolumns\u001b[39m.\u001b[39mnlevels \u001b[39m>\u001b[39m \u001b[39m1\u001b[39m:\n\u001b[0;32m   3504\u001b[0m     \u001b[39mreturn\u001b[39;00m \u001b[39mself\u001b[39m\u001b[39m.\u001b[39m_getitem_multilevel(key)\n\u001b[1;32m-> 3505\u001b[0m indexer \u001b[39m=\u001b[39m \u001b[39mself\u001b[39;49m\u001b[39m.\u001b[39;49mcolumns\u001b[39m.\u001b[39;49mget_loc(key)\n\u001b[0;32m   3506\u001b[0m \u001b[39mif\u001b[39;00m is_integer(indexer):\n\u001b[0;32m   3507\u001b[0m     indexer \u001b[39m=\u001b[39m [indexer]\n",
      "File \u001b[1;32mc:\\Users\\peteramerkhanian\\anaconda3\\lib\\site-packages\\pandas\\core\\indexes\\base.py:3623\u001b[0m, in \u001b[0;36mIndex.get_loc\u001b[1;34m(self, key, method, tolerance)\u001b[0m\n\u001b[0;32m   3621\u001b[0m     \u001b[39mreturn\u001b[39;00m \u001b[39mself\u001b[39m\u001b[39m.\u001b[39m_engine\u001b[39m.\u001b[39mget_loc(casted_key)\n\u001b[0;32m   3622\u001b[0m \u001b[39mexcept\u001b[39;00m \u001b[39mKeyError\u001b[39;00m \u001b[39mas\u001b[39;00m err:\n\u001b[1;32m-> 3623\u001b[0m     \u001b[39mraise\u001b[39;00m \u001b[39mKeyError\u001b[39;00m(key) \u001b[39mfrom\u001b[39;00m \u001b[39merr\u001b[39;00m\n\u001b[0;32m   3624\u001b[0m \u001b[39mexcept\u001b[39;00m \u001b[39mTypeError\u001b[39;00m:\n\u001b[0;32m   3625\u001b[0m     \u001b[39m# If we have a listlike key, _check_indexing_error will raise\u001b[39;00m\n\u001b[0;32m   3626\u001b[0m     \u001b[39m#  InvalidIndexError. Otherwise we fall through and re-raise\u001b[39;00m\n\u001b[0;32m   3627\u001b[0m     \u001b[39m#  the TypeError.\u001b[39;00m\n\u001b[0;32m   3628\u001b[0m     \u001b[39mself\u001b[39m\u001b[39m.\u001b[39m_check_indexing_error(key)\n",
      "\u001b[1;31mKeyError\u001b[0m: 'EIP'"
     ]
    }
   ],
   "source": [
    "print(df.shape)\n",
    "df = df[~df[\"EIP\"].isin([-99, -88])]\n",
    "df = df[~df[\"DOWN\"].isin([-99, -88])]\n",
    "df = df[~df[\"ANXIOUS\"].isin([-99, -88])]\n",
    "df = df[~df[\"INCOME\"].isin([-99, -88])]\n",
    "df = df[~df[\"EIP_YN\"].isin([-99, -88])]\n",
    "df = df[~df[\"MS\"].isin([-99, -88])]\n",
    "print(df.shape)"
   ]
  },
  {
   "cell_type": "code",
   "execution_count": null,
   "id": "50165b2a",
   "metadata": {},
   "outputs": [
    {
     "data": {
      "text/html": [
       "<div>\n",
       "<style scoped>\n",
       "    .dataframe tbody tr th:only-of-type {\n",
       "        vertical-align: middle;\n",
       "    }\n",
       "\n",
       "    .dataframe tbody tr th {\n",
       "        vertical-align: top;\n",
       "    }\n",
       "\n",
       "    .dataframe thead th {\n",
       "        text-align: right;\n",
       "    }\n",
       "</style>\n",
       "<table border=\"1\" class=\"dataframe\">\n",
       "  <thead>\n",
       "    <tr style=\"text-align: right;\">\n",
       "      <th></th>\n",
       "      <th>Unnamed: 0</th>\n",
       "      <th>SCRAM</th>\n",
       "      <th>WEEK</th>\n",
       "      <th>EST_ST</th>\n",
       "      <th>EST_MSA</th>\n",
       "      <th>PWEIGHT</th>\n",
       "      <th>TBIRTH_YEAR</th>\n",
       "      <th>ABIRTH_YEAR</th>\n",
       "      <th>EGENDER</th>\n",
       "      <th>AGENDER</th>\n",
       "      <th>...</th>\n",
       "      <th>ENERGY</th>\n",
       "      <th>HSE_TEMP</th>\n",
       "      <th>ENRGY_BILL</th>\n",
       "      <th>SUMMER_ED1</th>\n",
       "      <th>SUMMER_ED2</th>\n",
       "      <th>SUMMER_ED3</th>\n",
       "      <th>SUMMER_ED4</th>\n",
       "      <th>SYMPTOMATIC</th>\n",
       "      <th>TREAT</th>\n",
       "      <th>INCOME_text</th>\n",
       "    </tr>\n",
       "  </thead>\n",
       "  <tbody>\n",
       "    <tr>\n",
       "      <th>0</th>\n",
       "      <td>0</td>\n",
       "      <td>V010000001S10011099370111</td>\n",
       "      <td>1</td>\n",
       "      <td>47</td>\n",
       "      <td>NaN</td>\n",
       "      <td>1973.489532</td>\n",
       "      <td>1986</td>\n",
       "      <td>2</td>\n",
       "      <td>2.0</td>\n",
       "      <td>2.0</td>\n",
       "      <td>...</td>\n",
       "      <td>NaN</td>\n",
       "      <td>NaN</td>\n",
       "      <td>NaN</td>\n",
       "      <td>NaN</td>\n",
       "      <td>NaN</td>\n",
       "      <td>NaN</td>\n",
       "      <td>NaN</td>\n",
       "      <td>1</td>\n",
       "      <td>0</td>\n",
       "      <td>\\$50,000 to \\$74,999</td>\n",
       "    </tr>\n",
       "    <tr>\n",
       "      <th>1</th>\n",
       "      <td>1</td>\n",
       "      <td>V010000001S10011900470112</td>\n",
       "      <td>1</td>\n",
       "      <td>1</td>\n",
       "      <td>NaN</td>\n",
       "      <td>1929.488419</td>\n",
       "      <td>1955</td>\n",
       "      <td>2</td>\n",
       "      <td>1.0</td>\n",
       "      <td>2.0</td>\n",
       "      <td>...</td>\n",
       "      <td>NaN</td>\n",
       "      <td>NaN</td>\n",
       "      <td>NaN</td>\n",
       "      <td>NaN</td>\n",
       "      <td>NaN</td>\n",
       "      <td>NaN</td>\n",
       "      <td>NaN</td>\n",
       "      <td>1</td>\n",
       "      <td>0</td>\n",
       "      <td>\\$25,000 to \\$34,999</td>\n",
       "    </tr>\n",
       "    <tr>\n",
       "      <th>2</th>\n",
       "      <td>2</td>\n",
       "      <td>V010000001S18010744940111</td>\n",
       "      <td>1</td>\n",
       "      <td>26</td>\n",
       "      <td>NaN</td>\n",
       "      <td>1526.612380</td>\n",
       "      <td>1976</td>\n",
       "      <td>2</td>\n",
       "      <td>2.0</td>\n",
       "      <td>2.0</td>\n",
       "      <td>...</td>\n",
       "      <td>NaN</td>\n",
       "      <td>NaN</td>\n",
       "      <td>NaN</td>\n",
       "      <td>NaN</td>\n",
       "      <td>NaN</td>\n",
       "      <td>NaN</td>\n",
       "      <td>NaN</td>\n",
       "      <td>0</td>\n",
       "      <td>0</td>\n",
       "      <td>\\$200,000 and above</td>\n",
       "    </tr>\n",
       "    <tr>\n",
       "      <th>3</th>\n",
       "      <td>3</td>\n",
       "      <td>V010000001S37010301340112</td>\n",
       "      <td>1</td>\n",
       "      <td>1</td>\n",
       "      <td>NaN</td>\n",
       "      <td>2734.635354</td>\n",
       "      <td>1964</td>\n",
       "      <td>2</td>\n",
       "      <td>1.0</td>\n",
       "      <td>2.0</td>\n",
       "      <td>...</td>\n",
       "      <td>NaN</td>\n",
       "      <td>NaN</td>\n",
       "      <td>NaN</td>\n",
       "      <td>NaN</td>\n",
       "      <td>NaN</td>\n",
       "      <td>NaN</td>\n",
       "      <td>NaN</td>\n",
       "      <td>1</td>\n",
       "      <td>0</td>\n",
       "      <td>\\$25,000 and Less</td>\n",
       "    </tr>\n",
       "    <tr>\n",
       "      <th>4</th>\n",
       "      <td>4</td>\n",
       "      <td>V010000001S37010480340111</td>\n",
       "      <td>1</td>\n",
       "      <td>1</td>\n",
       "      <td>NaN</td>\n",
       "      <td>681.211425</td>\n",
       "      <td>1963</td>\n",
       "      <td>2</td>\n",
       "      <td>2.0</td>\n",
       "      <td>2.0</td>\n",
       "      <td>...</td>\n",
       "      <td>NaN</td>\n",
       "      <td>NaN</td>\n",
       "      <td>NaN</td>\n",
       "      <td>NaN</td>\n",
       "      <td>NaN</td>\n",
       "      <td>NaN</td>\n",
       "      <td>NaN</td>\n",
       "      <td>0</td>\n",
       "      <td>0</td>\n",
       "      <td>\\$50,000 to \\$74,999</td>\n",
       "    </tr>\n",
       "  </tbody>\n",
       "</table>\n",
       "<p>5 rows × 410 columns</p>\n",
       "</div>"
      ],
      "text/plain": [
       "   Unnamed: 0                      SCRAM  WEEK  EST_ST  EST_MSA      PWEIGHT  \\\n",
       "0           0  V010000001S10011099370111     1      47      NaN  1973.489532   \n",
       "1           1  V010000001S10011900470112     1       1      NaN  1929.488419   \n",
       "2           2  V010000001S18010744940111     1      26      NaN  1526.612380   \n",
       "3           3  V010000001S37010301340112     1       1      NaN  2734.635354   \n",
       "4           4  V010000001S37010480340111     1       1      NaN   681.211425   \n",
       "\n",
       "   TBIRTH_YEAR  ABIRTH_YEAR  EGENDER  AGENDER  ...  ENERGY  HSE_TEMP  \\\n",
       "0         1986            2      2.0      2.0  ...     NaN       NaN   \n",
       "1         1955            2      1.0      2.0  ...     NaN       NaN   \n",
       "2         1976            2      2.0      2.0  ...     NaN       NaN   \n",
       "3         1964            2      1.0      2.0  ...     NaN       NaN   \n",
       "4         1963            2      2.0      2.0  ...     NaN       NaN   \n",
       "\n",
       "   ENRGY_BILL  SUMMER_ED1  SUMMER_ED2  SUMMER_ED3  SUMMER_ED4  SYMPTOMATIC  \\\n",
       "0         NaN         NaN         NaN         NaN         NaN            1   \n",
       "1         NaN         NaN         NaN         NaN         NaN            1   \n",
       "2         NaN         NaN         NaN         NaN         NaN            0   \n",
       "3         NaN         NaN         NaN         NaN         NaN            1   \n",
       "4         NaN         NaN         NaN         NaN         NaN            0   \n",
       "\n",
       "   TREAT           INCOME_text  \n",
       "0      0  \\$50,000 to \\$74,999  \n",
       "1      0  \\$25,000 to \\$34,999  \n",
       "2      0   \\$200,000 and above  \n",
       "3      0     \\$25,000 and Less  \n",
       "4      0  \\$50,000 to \\$74,999  \n",
       "\n",
       "[5 rows x 410 columns]"
      ]
     },
     "execution_count": 49,
     "metadata": {},
     "output_type": "execute_result"
    }
   ],
   "source": [
    "df.head()"
   ]
  },
  {
   "cell_type": "code",
   "execution_count": null,
   "id": "7b9eae25",
   "metadata": {},
   "outputs": [],
   "source": [
    "# df[\"SCRAM\"].value_counts().max()"
   ]
  },
  {
   "cell_type": "code",
   "execution_count": null,
   "id": "d0ec6837",
   "metadata": {},
   "outputs": [],
   "source": [
    "# over_one_obs = (df[\"SCRAM\"].value_counts() > 1)"
   ]
  },
  {
   "cell_type": "code",
   "execution_count": null,
   "id": "24d0e7a4",
   "metadata": {},
   "outputs": [],
   "source": [
    "# over_one_indices = over_one_obs[over_one_obs == True]"
   ]
  },
  {
   "cell_type": "code",
   "execution_count": null,
   "id": "57e0e20f",
   "metadata": {},
   "outputs": [],
   "source": [
    "# df_over_one = pd.merge(df, over_one_indices, left_on=\"SCRAM\", right_index=True, suffixes =[\"\", \"drop\"])"
   ]
  },
  {
   "cell_type": "code",
   "execution_count": null,
   "id": "a3737a89",
   "metadata": {},
   "outputs": [],
   "source": [
    "# def check_initial_eligibility(x):\n",
    "#     \"\"\"check if a person has at least one row where they \n",
    "#     are not yet treated, and are symptomatic, and it's not their\n",
    "#     last row.\n",
    "\n",
    "#     Args:\n",
    "#         x (pd.DataFrame): one person's df\n",
    "\n",
    "#     Returns:\n",
    "#         boolean: true or false depending on if they meet eligibility\n",
    "#     \"\"\"\n",
    "\n",
    "#     for i in range(len(x))[:-1]:\n",
    "#         untreated = (x.iloc[i]['TREAT'] == 0)\n",
    "#         symptomatic = (x.iloc[i]['SYMPTOMATIC'] == 1)\n",
    "#         if symptomatic and untreated:\n",
    "#             return i\n",
    "#     return -99"
   ]
  },
  {
   "cell_type": "code",
   "execution_count": null,
   "id": "3032c026",
   "metadata": {},
   "outputs": [],
   "source": [
    "# observed_twice_symptomatic = df_over_one.groupby('SCRAM')[['SYMPTOMATIC', 'TREAT']].apply(check_initial_eligibility)"
   ]
  },
  {
   "cell_type": "code",
   "execution_count": null,
   "id": "efacf138",
   "metadata": {},
   "outputs": [],
   "source": [
    "# observed_twice_symptomatic.value_counts()"
   ]
  },
  {
   "cell_type": "code",
   "execution_count": null,
   "id": "88a6de9a",
   "metadata": {},
   "outputs": [],
   "source": [
    "# observed_twice_symptomatic_indices = pd.DataFrame(observed_twice_symptomatic[observed_twice_symptomatic != -99])"
   ]
  },
  {
   "cell_type": "code",
   "execution_count": null,
   "id": "cc7a1e17",
   "metadata": {},
   "outputs": [],
   "source": [
    "# observed_twice_symptomatic_indices"
   ]
  },
  {
   "cell_type": "code",
   "execution_count": null,
   "id": "61b53bc1",
   "metadata": {},
   "outputs": [],
   "source": [
    "# df_ob_twice = pd.merge(df_over_one, observed_twice_symptomatic_indices, left_on=\"SCRAM\", right_index=True, suffixes =[\"\", \"drop\"])"
   ]
  },
  {
   "cell_type": "code",
   "execution_count": null,
   "id": "ebb6f2f3",
   "metadata": {},
   "outputs": [],
   "source": [
    "# for i in df_ob_twice.groupby(\"SCRAM\")[0].max():\n",
    "    # print(i)"
   ]
  },
  {
   "cell_type": "code",
   "execution_count": null,
   "id": "8f377d71",
   "metadata": {},
   "outputs": [],
   "source": [
    "# pd.set_option('display.max_columns', 50)\n",
    "# df_ob_twice[df_ob_twice['SCRAM'] == 'V119950004S98540572810021']"
   ]
  },
  {
   "cell_type": "code",
   "execution_count": null,
   "id": "07690253",
   "metadata": {},
   "outputs": [],
   "source": [
    "# del df_over0_var"
   ]
  },
  {
   "cell_type": "code",
   "execution_count": null,
   "id": "8e087544",
   "metadata": {},
   "outputs": [],
   "source": [
    "# eip_variance = df.groupby(\"SCRAM\")[\"EIP\"].var()"
   ]
  },
  {
   "cell_type": "code",
   "execution_count": null,
   "id": "025ad460",
   "metadata": {},
   "outputs": [],
   "source": [
    "# over0_var = eip_variance[eip_variance>1]*0\n",
    "# over0_var"
   ]
  },
  {
   "cell_type": "code",
   "execution_count": null,
   "id": "70da34f9",
   "metadata": {},
   "outputs": [],
   "source": [
    "# df_over0_var = pd.merge(df, over0_var, left_on=\"SCRAM\", right_index=True).drop(\"EIP_y\", axis=1)"
   ]
  },
  {
   "cell_type": "code",
   "execution_count": null,
   "id": "ca312c44",
   "metadata": {},
   "outputs": [],
   "source": [
    "# pd.set_option('display.max_columns', 10)\n",
    "# df_over0_var[df_over0_var['SCRAM'] == df_over0_var.iloc[142]['SCRAM']]"
   ]
  },
  {
   "cell_type": "code",
   "execution_count": null,
   "id": "0daf1030",
   "metadata": {},
   "outputs": [],
   "source": [
    "# df[\"SCRAM\"].value_counts()[:20]"
   ]
  },
  {
   "cell_type": "code",
   "execution_count": null,
   "id": "f59f194b",
   "metadata": {},
   "outputs": [],
   "source": [
    "df[\"SYMPTOMATIC\"] = ((df[\"DOWN\"] >= 3) | (df[\"ANXIOUS\"] >= 3)).astype(int)"
   ]
  },
  {
   "cell_type": "code",
   "execution_count": null,
   "id": "a1b2e592",
   "metadata": {},
   "outputs": [],
   "source": [
    "df[\"TREAT\"] = (df[\"EIP\"].isin([1, 2, 3])).astype(int) + (df[\"EIP_YN\"] == 1).astype(int)"
   ]
  },
  {
   "cell_type": "markdown",
   "id": "284ed384",
   "metadata": {},
   "source": [
    "Income:\n",
    "1) Less than $25,000  \n",
    "2) $25,000 - $34,999  \n",
    "3) $35,000 - $49,999   \n",
    "4) $50,000 - $74,999   \n",
    "5) $75,000 - $99,999   \n",
    "6) $100,000 - $149,999   \n",
    "7) $150,000 - $199,999\n",
    "8) $200,000 and above  \n",
    "-99) Question seen but category not selected  \n",
    "-88) Missing / Did not report\""
   ]
  },
  {
   "cell_type": "code",
   "execution_count": null,
   "id": "18663103",
   "metadata": {},
   "outputs": [],
   "source": [
    "income_translation_dict = {1: \"\\$25,000 and Less\",\n",
    "                           2: \"\\$25,000 to \\$34,999\",\n",
    "                           3: \"\\$35,000 to \\$49,999\",\n",
    "                           4: \"\\$50,000 to \\$74,999\",\n",
    "                           5: \"\\$75,000 to \\$99,999\",\n",
    "                           6: \"\\$100,000 to \\$149,999\",\n",
    "                           7: \"\\$150,000 to \\$199,999\",\n",
    "                           8: \"\\$200,000 and above\", }\n",
    "df['INCOME_text'] = df['INCOME'].replace(\n",
    "    income_translation_dict)"
   ]
  },
  {
   "cell_type": "code",
   "execution_count": null,
   "id": "e8edfd1d",
   "metadata": {},
   "outputs": [
    {
     "data": {
      "image/png": "[encoded data removed]",
      "text/plain": [
       "<Figure size 576x360 with 1 Axes>"
      ]
     },
     "metadata": {
      "needs_background": "light"
     },
     "output_type": "display_data"
    }
   ],
   "source": [
    "sns.set_context(\"talk\")\n",
    "fig, ax = plt.subplots(1, 1, figsize=(8, 5))\n",
    "df['INCOME'].value_counts(normalize=True).sort_index().plot(kind=\"barh\", ax=ax)\n",
    "ax.set_yticklabels(income_translation_dict.values())\n",
    "ax.set_title(\"Income Distribution\")\n",
    "ax.set_xlabel(\"Density\");"
   ]
  },
  {
   "cell_type": "code",
   "execution_count": null,
   "id": "d55f7ff9",
   "metadata": {},
   "outputs": [],
   "source": [
    "income_depression_pivot = df.pivot_table(index=\"WEEK\", columns=\"INCOME_text\", values=\"SYMPTOMATIC\")"
   ]
  },
  {
   "cell_type": "code",
   "execution_count": null,
   "id": "2fe0e578",
   "metadata": {},
   "outputs": [
    {
     "data": {
      "image/png": "[encoded data removed]",
      "text/plain": [
       "<Figure size 720x576 with 1 Axes>"
      ]
     },
     "metadata": {
      "needs_background": "light"
     },
     "output_type": "display_data"
    }
   ],
   "source": [
    "fig, ax = plt.subplots(1, 1, figsize=(10, 8))\n",
    "income_depression_pivot.plot(ax=ax, legend=False)\n",
    "ax.set_xlim(0, 34)\n",
    "ax.set_ylim(0)\n",
    "for i in range(income_depression_pivot.shape[1]):\n",
    "    plt.text(34.2, income_depression_pivot.iloc[-1, i], income_depression_pivot.columns[i], size=15, c=ax.get_lines()[i].get_c())\n",
    "ax.set_ylabel(\"Proportion Symptomatic\")\n",
    "ax.set_xlabel(\"Pulse Week\")\n",
    "ax.set_title(\"Proportion Symptomatic by Income Group\");"
   ]
  },
  {
   "cell_type": "code",
   "execution_count": null,
   "id": "bff252d0",
   "metadata": {},
   "outputs": [
    {
     "data": {
      "text/plain": [
       "{1: '\\\\$25,000 and Less',\n",
       " 2: '\\\\$25,000 to \\\\$34,999',\n",
       " 3: '\\\\$35,000 to \\\\$49,999',\n",
       " 4: '\\\\$50,000 to \\\\$74,999',\n",
       " 5: '\\\\$75,000 to \\\\$99,999',\n",
       " 6: '\\\\$100,000 to \\\\$149,999',\n",
       " 7: '\\\\$150,000 to \\\\$199,999',\n",
       " 8: '\\\\$200,000 and above'}"
      ]
     },
     "execution_count": 77,
     "metadata": {},
     "output_type": "execute_result"
    }
   ],
   "source": [
    "income_translation_dict"
   ]
  },
  {
   "cell_type": "code",
   "execution_count": null,
   "id": "d6bea427",
   "metadata": {},
   "outputs": [
    {
     "data": {
      "text/plain": [
       "0         True\n",
       "1         True\n",
       "2        False\n",
       "3         True\n",
       "4         True\n",
       "         ...  \n",
       "64556    False\n",
       "64557    False\n",
       "64558    False\n",
       "64560     True\n",
       "64561    False\n",
       "Length: 2245964, dtype: bool"
      ]
     },
     "execution_count": 78,
     "metadata": {},
     "output_type": "execute_result"
    }
   ],
   "source": [
    "# Single, < 75k\n",
    "single_household = (df['THHLD_NUMPER'] == 1)\n",
    "not_married = (df['MS'] != 1)\n",
    "married = (df['MS'] == 1)\n",
    "income_under_75k = (df['INCOME'] < 5)\n",
    "income_under_150k = (df['INCOME'] < 7)\n",
    "\n",
    "# non_single_household = (df['THHLD_NUMPER'] > 1)\n",
    "\n",
    "income_under_75k | (married & income_under_150k)"
   ]
  },
  {
   "cell_type": "code",
   "execution_count": null,
   "id": "8c926597",
   "metadata": {},
   "outputs": [],
   "source": [
    "df['Eligible'] = income_under_75k | (married & income_under_150k)"
   ]
  },
  {
   "cell_type": "code",
   "execution_count": null,
   "id": "6e5849e8",
   "metadata": {},
   "outputs": [
    {
     "data": {
      "text/html": [
       "<div>\n",
       "<style scoped>\n",
       "    .dataframe tbody tr th:only-of-type {\n",
       "        vertical-align: middle;\n",
       "    }\n",
       "\n",
       "    .dataframe tbody tr th {\n",
       "        vertical-align: top;\n",
       "    }\n",
       "\n",
       "    .dataframe thead th {\n",
       "        text-align: right;\n",
       "    }\n",
       "</style>\n",
       "<table border=\"1\" class=\"dataframe\">\n",
       "  <thead>\n",
       "    <tr style=\"text-align: right;\">\n",
       "      <th></th>\n",
       "      <th>Unnamed: 0</th>\n",
       "      <th>SCRAM</th>\n",
       "      <th>WEEK</th>\n",
       "      <th>EST_ST</th>\n",
       "      <th>EST_MSA</th>\n",
       "      <th>PWEIGHT</th>\n",
       "      <th>TBIRTH_YEAR</th>\n",
       "      <th>ABIRTH_YEAR</th>\n",
       "      <th>EGENDER</th>\n",
       "      <th>AGENDER</th>\n",
       "      <th>...</th>\n",
       "      <th>HSE_TEMP</th>\n",
       "      <th>ENRGY_BILL</th>\n",
       "      <th>SUMMER_ED1</th>\n",
       "      <th>SUMMER_ED2</th>\n",
       "      <th>SUMMER_ED3</th>\n",
       "      <th>SUMMER_ED4</th>\n",
       "      <th>SYMPTOMATIC</th>\n",
       "      <th>TREAT</th>\n",
       "      <th>INCOME_text</th>\n",
       "      <th>Eligible</th>\n",
       "    </tr>\n",
       "  </thead>\n",
       "  <tbody>\n",
       "    <tr>\n",
       "      <th>0</th>\n",
       "      <td>0</td>\n",
       "      <td>V010000001S10011099370111</td>\n",
       "      <td>1</td>\n",
       "      <td>47</td>\n",
       "      <td>NaN</td>\n",
       "      <td>1973.489532</td>\n",
       "      <td>1986</td>\n",
       "      <td>2</td>\n",
       "      <td>2.0</td>\n",
       "      <td>2.0</td>\n",
       "      <td>...</td>\n",
       "      <td>NaN</td>\n",
       "      <td>NaN</td>\n",
       "      <td>NaN</td>\n",
       "      <td>NaN</td>\n",
       "      <td>NaN</td>\n",
       "      <td>NaN</td>\n",
       "      <td>1</td>\n",
       "      <td>0</td>\n",
       "      <td>\\$50,000 to \\$74,999</td>\n",
       "      <td>True</td>\n",
       "    </tr>\n",
       "    <tr>\n",
       "      <th>1</th>\n",
       "      <td>1</td>\n",
       "      <td>V010000001S10011900470112</td>\n",
       "      <td>1</td>\n",
       "      <td>1</td>\n",
       "      <td>NaN</td>\n",
       "      <td>1929.488419</td>\n",
       "      <td>1955</td>\n",
       "      <td>2</td>\n",
       "      <td>1.0</td>\n",
       "      <td>2.0</td>\n",
       "      <td>...</td>\n",
       "      <td>NaN</td>\n",
       "      <td>NaN</td>\n",
       "      <td>NaN</td>\n",
       "      <td>NaN</td>\n",
       "      <td>NaN</td>\n",
       "      <td>NaN</td>\n",
       "      <td>1</td>\n",
       "      <td>0</td>\n",
       "      <td>\\$25,000 to \\$34,999</td>\n",
       "      <td>True</td>\n",
       "    </tr>\n",
       "    <tr>\n",
       "      <th>2</th>\n",
       "      <td>2</td>\n",
       "      <td>V010000001S18010744940111</td>\n",
       "      <td>1</td>\n",
       "      <td>26</td>\n",
       "      <td>NaN</td>\n",
       "      <td>1526.612380</td>\n",
       "      <td>1976</td>\n",
       "      <td>2</td>\n",
       "      <td>2.0</td>\n",
       "      <td>2.0</td>\n",
       "      <td>...</td>\n",
       "      <td>NaN</td>\n",
       "      <td>NaN</td>\n",
       "      <td>NaN</td>\n",
       "      <td>NaN</td>\n",
       "      <td>NaN</td>\n",
       "      <td>NaN</td>\n",
       "      <td>0</td>\n",
       "      <td>0</td>\n",
       "      <td>\\$200,000 and above</td>\n",
       "      <td>False</td>\n",
       "    </tr>\n",
       "    <tr>\n",
       "      <th>3</th>\n",
       "      <td>3</td>\n",
       "      <td>V010000001S37010301340112</td>\n",
       "      <td>1</td>\n",
       "      <td>1</td>\n",
       "      <td>NaN</td>\n",
       "      <td>2734.635354</td>\n",
       "      <td>1964</td>\n",
       "      <td>2</td>\n",
       "      <td>1.0</td>\n",
       "      <td>2.0</td>\n",
       "      <td>...</td>\n",
       "      <td>NaN</td>\n",
       "      <td>NaN</td>\n",
       "      <td>NaN</td>\n",
       "      <td>NaN</td>\n",
       "      <td>NaN</td>\n",
       "      <td>NaN</td>\n",
       "      <td>1</td>\n",
       "      <td>0</td>\n",
       "      <td>\\$25,000 and Less</td>\n",
       "      <td>True</td>\n",
       "    </tr>\n",
       "    <tr>\n",
       "      <th>4</th>\n",
       "      <td>4</td>\n",
       "      <td>V010000001S37010480340111</td>\n",
       "      <td>1</td>\n",
       "      <td>1</td>\n",
       "      <td>NaN</td>\n",
       "      <td>681.211425</td>\n",
       "      <td>1963</td>\n",
       "      <td>2</td>\n",
       "      <td>2.0</td>\n",
       "      <td>2.0</td>\n",
       "      <td>...</td>\n",
       "      <td>NaN</td>\n",
       "      <td>NaN</td>\n",
       "      <td>NaN</td>\n",
       "      <td>NaN</td>\n",
       "      <td>NaN</td>\n",
       "      <td>NaN</td>\n",
       "      <td>0</td>\n",
       "      <td>0</td>\n",
       "      <td>\\$50,000 to \\$74,999</td>\n",
       "      <td>True</td>\n",
       "    </tr>\n",
       "  </tbody>\n",
       "</table>\n",
       "<p>5 rows × 411 columns</p>\n",
       "</div>"
      ],
      "text/plain": [
       "   Unnamed: 0                      SCRAM  WEEK  EST_ST  EST_MSA      PWEIGHT  \\\n",
       "0           0  V010000001S10011099370111     1      47      NaN  1973.489532   \n",
       "1           1  V010000001S10011900470112     1       1      NaN  1929.488419   \n",
       "2           2  V010000001S18010744940111     1      26      NaN  1526.612380   \n",
       "3           3  V010000001S37010301340112     1       1      NaN  2734.635354   \n",
       "4           4  V010000001S37010480340111     1       1      NaN   681.211425   \n",
       "\n",
       "   TBIRTH_YEAR  ABIRTH_YEAR  EGENDER  AGENDER  ...  HSE_TEMP  ENRGY_BILL  \\\n",
       "0         1986            2      2.0      2.0  ...       NaN         NaN   \n",
       "1         1955            2      1.0      2.0  ...       NaN         NaN   \n",
       "2         1976            2      2.0      2.0  ...       NaN         NaN   \n",
       "3         1964            2      1.0      2.0  ...       NaN         NaN   \n",
       "4         1963            2      2.0      2.0  ...       NaN         NaN   \n",
       "\n",
       "   SUMMER_ED1  SUMMER_ED2  SUMMER_ED3  SUMMER_ED4  SYMPTOMATIC  TREAT  \\\n",
       "0         NaN         NaN         NaN         NaN            1      0   \n",
       "1         NaN         NaN         NaN         NaN            1      0   \n",
       "2         NaN         NaN         NaN         NaN            0      0   \n",
       "3         NaN         NaN         NaN         NaN            1      0   \n",
       "4         NaN         NaN         NaN         NaN            0      0   \n",
       "\n",
       "            INCOME_text  Eligible  \n",
       "0  \\$50,000 to \\$74,999      True  \n",
       "1  \\$25,000 to \\$34,999      True  \n",
       "2   \\$200,000 and above     False  \n",
       "3     \\$25,000 and Less      True  \n",
       "4  \\$50,000 to \\$74,999      True  \n",
       "\n",
       "[5 rows x 411 columns]"
      ]
     },
     "execution_count": 80,
     "metadata": {},
     "output_type": "execute_result"
    }
   ],
   "source": [
    "df.head()"
   ]
  },
  {
   "cell_type": "code",
   "execution_count": null,
   "id": "6f990ee9",
   "metadata": {},
   "outputs": [
    {
     "data": {
      "text/plain": [
       "True     0.711526\n",
       "False    0.288474\n",
       "Name: Eligible, dtype: float64"
      ]
     },
     "execution_count": 81,
     "metadata": {},
     "output_type": "execute_result"
    }
   ],
   "source": [
    "df['Eligible'].value_counts(normalize=True)"
   ]
  },
  {
   "cell_type": "code",
   "execution_count": null,
   "id": "9a33ecbf",
   "metadata": {},
   "outputs": [
    {
     "data": {
      "text/plain": [
       "1    1318828\n",
       "5     421821\n",
       "3     349667\n",
       "2     115401\n",
       "4      40247\n",
       "Name: MS, dtype: int64"
      ]
     },
     "execution_count": 82,
     "metadata": {},
     "output_type": "execute_result"
    }
   ],
   "source": [
    "df['MS'].value_counts()"
   ]
  },
  {
   "cell_type": "code",
   "execution_count": null,
   "id": "1cba9d95",
   "metadata": {},
   "outputs": [
    {
     "data": {
      "text/plain": [
       "2     865065\n",
       "1     393247\n",
       "3     381647\n",
       "4     340360\n",
       "5     154366\n",
       "6      62598\n",
       "7      22998\n",
       "10     12426\n",
       "8       9589\n",
       "9       3668\n",
       "Name: THHLD_NUMPER, dtype: int64"
      ]
     },
     "execution_count": 83,
     "metadata": {},
     "output_type": "execute_result"
    }
   ],
   "source": [
    "df['THHLD_NUMPER'].value_counts()"
   ]
  },
  {
   "cell_type": "code",
   "execution_count": null,
   "id": "67a52165",
   "metadata": {},
   "outputs": [
    {
     "data": {
      "text/plain": [
       "0    1487961\n",
       "1     332594\n",
       "2     273768\n",
       "3     101583\n",
       "4      33529\n",
       "5      16529\n",
       "Name: THHLD_NUMKID, dtype: int64"
      ]
     },
     "execution_count": 84,
     "metadata": {},
     "output_type": "execute_result"
    }
   ],
   "source": [
    "df['THHLD_NUMKID'].value_counts()"
   ]
  },
  {
   "cell_type": "code",
   "execution_count": null,
   "id": "aec9e338",
   "metadata": {},
   "outputs": [
    {
     "data": {
      "text/plain": [
       "Text(0.5, 0, 'Pulse Week')"
      ]
     },
     "execution_count": 86,
     "metadata": {},
     "output_type": "execute_result"
    },
    {
     "data": {
      "image/png": "[encoded data removed]",
      "text/plain": [
       "<Figure size 576x360 with 1 Axes>"
      ]
     },
     "metadata": {
      "needs_background": "light"
     },
     "output_type": "display_data"
    }
   ],
   "source": [
    "\n",
    "df.pivot_table(index=\"WEEK\", columns=\"Eligible\", values=\"SYMPTOMATIC\").plot(figsize=(8, 5))\n",
    "plt.title(\"Proportion Symptomatic by EIP Eligibility Group\")\n",
    "plt.ylabel(\"Proportion Symptomatic\")\n",
    "plt.xlabel(\"Pulse Week\")"
   ]
  },
  {
   "cell_type": "code",
   "execution_count": null,
   "id": "286927b5",
   "metadata": {},
   "outputs": [
    {
     "data": {
      "image/png": "[encoded data removed]",
      "text/plain": [
       "<Figure size 576x360 with 1 Axes>"
      ]
     },
     "metadata": {
      "needs_background": "light"
     },
     "output_type": "display_data"
    }
   ],
   "source": [
    "df.pivot_table(index=\"WEEK\", columns=\"Eligible\", values=\"TREAT\").plot(figsize=(8, 5))\n",
    "plt.axvline(20, linestyle=\":\", c=\"black\")\n",
    "plt.text(21.3, 0.85, 'EIP question\\nchanged', size=13)\n",
    "plt.title(\"Proportion Who Received EIP by Eligibility Group\")\n",
    "plt.ylabel(\"Proportion Who Received EIP\")\n",
    "plt.xlabel(\"Pulse Week\");"
   ]
  },
  {
   "cell_type": "code",
   "execution_count": null,
   "id": "99c59c51",
   "metadata": {},
   "outputs": [
    {
     "data": {
      "image/png": "[encoded data removed]",
      "text/plain": [
       "<Figure size 576x360 with 1 Axes>"
      ]
     },
     "metadata": {
      "needs_background": "light"
     },
     "output_type": "display_data"
    }
   ],
   "source": [
    "df.pivot_table(index=\"WEEK\", columns=\"Eligible\", values=\"TREAT\", aggfunc=np.mean).plot(figsize=(8, 5))\n",
    "plt.xlim(21, 34)\n",
    "plt.title(\"Proportion Who Received EIP by Eligibility Group\")\n",
    "plt.ylabel(\"Proportion Who Received EIP\")\n",
    "plt.xlabel(\"Pulse Week\");"
   ]
  },
  {
   "cell_type": "code",
   "execution_count": null,
   "id": "8863c05e",
   "metadata": {},
   "outputs": [],
   "source": [
    "df_phase3 = df.query(\"WEEK > 21\")"
   ]
  },
  {
   "cell_type": "code",
   "execution_count": null,
   "id": "941fbccf",
   "metadata": {},
   "outputs": [
    {
     "data": {
      "text/plain": [
       "<AxesSubplot:xlabel='WEEK'>"
      ]
     },
     "execution_count": 91,
     "metadata": {},
     "output_type": "execute_result"
    },
    {
     "data": {
      "image/png": "[encoded data removed]",
      "text/plain": [
       "<Figure size 576x360 with 1 Axes>"
      ]
     },
     "metadata": {
      "needs_background": "light"
     },
     "output_type": "display_data"
    }
   ],
   "source": [
    "df.groupby(\"WEEK\")[['TREAT', 'SYMPTOMATIC']].mean().iloc[15:, :].plot(figsize=(8, 5))"
   ]
  },
  {
   "cell_type": "code",
   "execution_count": null,
   "id": "6f46e0e4",
   "metadata": {},
   "outputs": [
    {
     "data": {
      "text/plain": [
       "0    501398\n",
       "1    206194\n",
       "Name: TREAT, dtype: int64"
      ]
     },
     "execution_count": 92,
     "metadata": {},
     "output_type": "execute_result"
    }
   ],
   "source": [
    "df_phase3[\"TREAT\"].value_counts()"
   ]
  },
  {
   "cell_type": "code",
   "execution_count": null,
   "id": "5c6fb70a",
   "metadata": {},
   "outputs": [
    {
     "data": {
      "text/plain": [
       "0.046585386711880034"
      ]
     },
     "execution_count": 93,
     "metadata": {},
     "output_type": "execute_result"
    }
   ],
   "source": [
    "25058 / 537894"
   ]
  },
  {
   "cell_type": "code",
   "execution_count": null,
   "id": "c8a7df29",
   "metadata": {},
   "outputs": [
    {
     "data": {
      "text/html": [
       "<div>\n",
       "<style scoped>\n",
       "    .dataframe tbody tr th:only-of-type {\n",
       "        vertical-align: middle;\n",
       "    }\n",
       "\n",
       "    .dataframe tbody tr th {\n",
       "        vertical-align: top;\n",
       "    }\n",
       "\n",
       "    .dataframe thead th {\n",
       "        text-align: right;\n",
       "    }\n",
       "</style>\n",
       "<table border=\"1\" class=\"dataframe\">\n",
       "  <thead>\n",
       "    <tr style=\"text-align: right;\">\n",
       "      <th>Eligible</th>\n",
       "      <th>False</th>\n",
       "      <th>True</th>\n",
       "    </tr>\n",
       "    <tr>\n",
       "      <th>WEEK</th>\n",
       "      <th></th>\n",
       "      <th></th>\n",
       "    </tr>\n",
       "  </thead>\n",
       "  <tbody>\n",
       "    <tr>\n",
       "      <th>22</th>\n",
       "      <td>4818</td>\n",
       "      <td>24981</td>\n",
       "    </tr>\n",
       "    <tr>\n",
       "      <th>23</th>\n",
       "      <td>5966</td>\n",
       "      <td>30626</td>\n",
       "    </tr>\n",
       "    <tr>\n",
       "      <th>24</th>\n",
       "      <td>4465</td>\n",
       "      <td>24176</td>\n",
       "    </tr>\n",
       "    <tr>\n",
       "      <th>25</th>\n",
       "      <td>3802</td>\n",
       "      <td>19889</td>\n",
       "    </tr>\n",
       "    <tr>\n",
       "      <th>26</th>\n",
       "      <td>3193</td>\n",
       "      <td>16624</td>\n",
       "    </tr>\n",
       "    <tr>\n",
       "      <th>27</th>\n",
       "      <td>4806</td>\n",
       "      <td>27646</td>\n",
       "    </tr>\n",
       "    <tr>\n",
       "      <th>28</th>\n",
       "      <td>1569</td>\n",
       "      <td>8557</td>\n",
       "    </tr>\n",
       "    <tr>\n",
       "      <th>29</th>\n",
       "      <td>1112</td>\n",
       "      <td>6406</td>\n",
       "    </tr>\n",
       "    <tr>\n",
       "      <th>30</th>\n",
       "      <td>970</td>\n",
       "      <td>4821</td>\n",
       "    </tr>\n",
       "    <tr>\n",
       "      <th>31</th>\n",
       "      <td>772</td>\n",
       "      <td>3819</td>\n",
       "    </tr>\n",
       "    <tr>\n",
       "      <th>32</th>\n",
       "      <td>635</td>\n",
       "      <td>3234</td>\n",
       "    </tr>\n",
       "    <tr>\n",
       "      <th>33</th>\n",
       "      <td>515</td>\n",
       "      <td>2792</td>\n",
       "    </tr>\n",
       "    <tr>\n",
       "      <th>34</th>\n",
       "      <td>0</td>\n",
       "      <td>0</td>\n",
       "    </tr>\n",
       "  </tbody>\n",
       "</table>\n",
       "</div>"
      ],
      "text/plain": [
       "Eligible  False   True\n",
       "WEEK                  \n",
       "22         4818  24981\n",
       "23         5966  30626\n",
       "24         4465  24176\n",
       "25         3802  19889\n",
       "26         3193  16624\n",
       "27         4806  27646\n",
       "28         1569   8557\n",
       "29         1112   6406\n",
       "30          970   4821\n",
       "31          772   3819\n",
       "32          635   3234\n",
       "33          515   2792\n",
       "34            0      0"
      ]
     },
     "execution_count": 94,
     "metadata": {},
     "output_type": "execute_result"
    }
   ],
   "source": [
    "df_phase3.pivot_table(index=\"WEEK\", columns=\"Eligible\", values=\"TREAT\", aggfunc=np.sum)"
   ]
  },
  {
   "cell_type": "code",
   "execution_count": null,
   "id": "b7a0fade",
   "metadata": {},
   "outputs": [
    {
     "data": {
      "text/plain": [
       "<AxesSubplot:xlabel='WEEK'>"
      ]
     },
     "execution_count": 95,
     "metadata": {},
     "output_type": "execute_result"
    },
    {
     "data": {
      "image/png": "[encoded data removed]",
      "text/plain": [
       "<Figure size 432x288 with 1 Axes>"
      ]
     },
     "metadata": {
      "needs_background": "light"
     },
     "output_type": "display_data"
    }
   ],
   "source": [
    "(df_phase3.pivot_table(index=\"WEEK\", columns=\"Eligible\", values=\"TREAT\", aggfunc=np.sum) / df_phase3[\"Eligible\"].value_counts()).plot()\n"
   ]
  },
  {
   "cell_type": "code",
   "execution_count": null,
   "id": "502a569a",
   "metadata": {},
   "outputs": [
    {
     "data": {
      "text/plain": [
       "array([[210146, 497446]], dtype=int64)"
      ]
     },
     "execution_count": 96,
     "metadata": {},
     "output_type": "execute_result"
    }
   ],
   "source": [
    "pd.DataFrame(df_phase3[\"Eligible\"].value_counts()).sort_index().T.values"
   ]
  },
  {
   "cell_type": "code",
   "execution_count": null,
   "id": "9f9f2269",
   "metadata": {},
   "outputs": [
    {
     "data": {
      "text/html": [
       "<div>\n",
       "<style scoped>\n",
       "    .dataframe tbody tr th:only-of-type {\n",
       "        vertical-align: middle;\n",
       "    }\n",
       "\n",
       "    .dataframe tbody tr th {\n",
       "        vertical-align: top;\n",
       "    }\n",
       "\n",
       "    .dataframe thead th {\n",
       "        text-align: right;\n",
       "    }\n",
       "</style>\n",
       "<table border=\"1\" class=\"dataframe\">\n",
       "  <thead>\n",
       "    <tr style=\"text-align: right;\">\n",
       "      <th></th>\n",
       "      <th>Eligible</th>\n",
       "      <th>False</th>\n",
       "      <th>True</th>\n",
       "    </tr>\n",
       "    <tr>\n",
       "      <th></th>\n",
       "      <th>WEEK</th>\n",
       "      <th></th>\n",
       "      <th></th>\n",
       "    </tr>\n",
       "  </thead>\n",
       "  <tbody>\n",
       "    <tr>\n",
       "      <th rowspan=\"13\" valign=\"top\">SYMPTOMATIC</th>\n",
       "      <th>22</th>\n",
       "      <td>0.308312</td>\n",
       "      <td>0.388700</td>\n",
       "    </tr>\n",
       "    <tr>\n",
       "      <th>23</th>\n",
       "      <td>0.291299</td>\n",
       "      <td>0.372905</td>\n",
       "    </tr>\n",
       "    <tr>\n",
       "      <th>24</th>\n",
       "      <td>0.267122</td>\n",
       "      <td>0.346684</td>\n",
       "    </tr>\n",
       "    <tr>\n",
       "      <th>25</th>\n",
       "      <td>0.251980</td>\n",
       "      <td>0.338102</td>\n",
       "    </tr>\n",
       "    <tr>\n",
       "      <th>26</th>\n",
       "      <td>0.234527</td>\n",
       "      <td>0.323393</td>\n",
       "    </tr>\n",
       "    <tr>\n",
       "      <th>27</th>\n",
       "      <td>0.223356</td>\n",
       "      <td>0.302857</td>\n",
       "    </tr>\n",
       "    <tr>\n",
       "      <th>28</th>\n",
       "      <td>0.203821</td>\n",
       "      <td>0.278350</td>\n",
       "    </tr>\n",
       "    <tr>\n",
       "      <th>29</th>\n",
       "      <td>0.185944</td>\n",
       "      <td>0.273061</td>\n",
       "    </tr>\n",
       "    <tr>\n",
       "      <th>30</th>\n",
       "      <td>0.177456</td>\n",
       "      <td>0.271254</td>\n",
       "    </tr>\n",
       "    <tr>\n",
       "      <th>31</th>\n",
       "      <td>0.164012</td>\n",
       "      <td>0.263014</td>\n",
       "    </tr>\n",
       "    <tr>\n",
       "      <th>32</th>\n",
       "      <td>0.169440</td>\n",
       "      <td>0.269268</td>\n",
       "    </tr>\n",
       "    <tr>\n",
       "      <th>33</th>\n",
       "      <td>0.161095</td>\n",
       "      <td>0.259185</td>\n",
       "    </tr>\n",
       "    <tr>\n",
       "      <th>34</th>\n",
       "      <td>0.171359</td>\n",
       "      <td>0.271885</td>\n",
       "    </tr>\n",
       "  </tbody>\n",
       "</table>\n",
       "</div>"
      ],
      "text/plain": [
       "Eligible             False      True\n",
       "            WEEK                    \n",
       "SYMPTOMATIC 22    0.308312  0.388700\n",
       "            23    0.291299  0.372905\n",
       "            24    0.267122  0.346684\n",
       "            25    0.251980  0.338102\n",
       "            26    0.234527  0.323393\n",
       "            27    0.223356  0.302857\n",
       "            28    0.203821  0.278350\n",
       "            29    0.185944  0.273061\n",
       "            30    0.177456  0.271254\n",
       "            31    0.164012  0.263014\n",
       "            32    0.169440  0.269268\n",
       "            33    0.161095  0.259185\n",
       "            34    0.171359  0.271885"
      ]
     },
     "execution_count": 97,
     "metadata": {},
     "output_type": "execute_result"
    }
   ],
   "source": [
    "df_phase3.pivot_table(index=\"Eligible\", columns=\"WEEK\", values=[\"SYMPTOMATIC\"], aggfunc=np.mean).T"
   ]
  },
  {
   "cell_type": "code",
   "execution_count": null,
   "id": "87a84852",
   "metadata": {},
   "outputs": [],
   "source": [
    "table = (df_phase3.pivot_table(index=\"Eligible\", columns=\"WEEK\", values=[\"TREAT\"], aggfunc=np.sum).T / pd.DataFrame(df_phase3[\"Eligible\"].value_counts()).sort_index().T.values).cumsum()\n",
    "melted_table = table.reset_index().melt(id_vars=\"WEEK\")"
   ]
  },
  {
   "cell_type": "code",
   "execution_count": 156,
   "id": "53f5e616",
   "metadata": {},
   "outputs": [
    {
     "name": "stderr",
     "output_type": "stream",
     "text": [
      "C:\\Users\\peteramerkhanian\\AppData\\Local\\Temp\\ipykernel_15964\\3726847954.py:1: SettingWithCopyWarning: \n",
      "A value is trying to be set on a copy of a slice from a DataFrame.\n",
      "Try using .loc[row_indexer,col_indexer] = value instead\n",
      "\n",
      "See the caveats in the documentation: https://pandas.pydata.org/pandas-docs/stable/user_guide/indexing.html#returning-a-view-versus-a-copy\n",
      "  df_phase3['WEEK'] = df_phase3['WEEK'].astype(str)\n"
     ]
    },
    {
     "data": {
      "text/html": [
       "<div>\n",
       "<style scoped>\n",
       "    .dataframe tbody tr th:only-of-type {\n",
       "        vertical-align: middle;\n",
       "    }\n",
       "\n",
       "    .dataframe tbody tr th {\n",
       "        vertical-align: top;\n",
       "    }\n",
       "\n",
       "    .dataframe thead th {\n",
       "        text-align: right;\n",
       "    }\n",
       "</style>\n",
       "<table border=\"1\" class=\"dataframe\">\n",
       "  <thead>\n",
       "    <tr style=\"text-align: right;\">\n",
       "      <th></th>\n",
       "      <th>const</th>\n",
       "      <th>TREAT</th>\n",
       "      <th>Eligible</th>\n",
       "      <th>WEEK_23</th>\n",
       "      <th>WEEK_24</th>\n",
       "      <th>WEEK_25</th>\n",
       "      <th>WEEK_26</th>\n",
       "      <th>WEEK_27</th>\n",
       "      <th>WEEK_28</th>\n",
       "      <th>WEEK_29</th>\n",
       "      <th>WEEK_30</th>\n",
       "      <th>WEEK_31</th>\n",
       "      <th>WEEK_32</th>\n",
       "      <th>WEEK_33</th>\n",
       "      <th>WEEK_34</th>\n",
       "    </tr>\n",
       "  </thead>\n",
       "  <tbody>\n",
       "    <tr>\n",
       "      <th>1</th>\n",
       "      <td>1.0</td>\n",
       "      <td>0</td>\n",
       "      <td>1</td>\n",
       "      <td>0</td>\n",
       "      <td>0</td>\n",
       "      <td>0</td>\n",
       "      <td>0</td>\n",
       "      <td>0</td>\n",
       "      <td>0</td>\n",
       "      <td>0</td>\n",
       "      <td>0</td>\n",
       "      <td>0</td>\n",
       "      <td>0</td>\n",
       "      <td>0</td>\n",
       "      <td>0</td>\n",
       "    </tr>\n",
       "    <tr>\n",
       "      <th>2</th>\n",
       "      <td>1.0</td>\n",
       "      <td>1</td>\n",
       "      <td>1</td>\n",
       "      <td>0</td>\n",
       "      <td>0</td>\n",
       "      <td>0</td>\n",
       "      <td>0</td>\n",
       "      <td>0</td>\n",
       "      <td>0</td>\n",
       "      <td>0</td>\n",
       "      <td>0</td>\n",
       "      <td>0</td>\n",
       "      <td>0</td>\n",
       "      <td>0</td>\n",
       "      <td>0</td>\n",
       "    </tr>\n",
       "    <tr>\n",
       "      <th>3</th>\n",
       "      <td>1.0</td>\n",
       "      <td>1</td>\n",
       "      <td>0</td>\n",
       "      <td>0</td>\n",
       "      <td>0</td>\n",
       "      <td>0</td>\n",
       "      <td>0</td>\n",
       "      <td>0</td>\n",
       "      <td>0</td>\n",
       "      <td>0</td>\n",
       "      <td>0</td>\n",
       "      <td>0</td>\n",
       "      <td>0</td>\n",
       "      <td>0</td>\n",
       "      <td>0</td>\n",
       "    </tr>\n",
       "    <tr>\n",
       "      <th>4</th>\n",
       "      <td>1.0</td>\n",
       "      <td>0</td>\n",
       "      <td>0</td>\n",
       "      <td>0</td>\n",
       "      <td>0</td>\n",
       "      <td>0</td>\n",
       "      <td>0</td>\n",
       "      <td>0</td>\n",
       "      <td>0</td>\n",
       "      <td>0</td>\n",
       "      <td>0</td>\n",
       "      <td>0</td>\n",
       "      <td>0</td>\n",
       "      <td>0</td>\n",
       "      <td>0</td>\n",
       "    </tr>\n",
       "    <tr>\n",
       "      <th>5</th>\n",
       "      <td>1.0</td>\n",
       "      <td>1</td>\n",
       "      <td>1</td>\n",
       "      <td>0</td>\n",
       "      <td>0</td>\n",
       "      <td>0</td>\n",
       "      <td>0</td>\n",
       "      <td>0</td>\n",
       "      <td>0</td>\n",
       "      <td>0</td>\n",
       "      <td>0</td>\n",
       "      <td>0</td>\n",
       "      <td>0</td>\n",
       "      <td>0</td>\n",
       "      <td>0</td>\n",
       "    </tr>\n",
       "    <tr>\n",
       "      <th>...</th>\n",
       "      <td>...</td>\n",
       "      <td>...</td>\n",
       "      <td>...</td>\n",
       "      <td>...</td>\n",
       "      <td>...</td>\n",
       "      <td>...</td>\n",
       "      <td>...</td>\n",
       "      <td>...</td>\n",
       "      <td>...</td>\n",
       "      <td>...</td>\n",
       "      <td>...</td>\n",
       "      <td>...</td>\n",
       "      <td>...</td>\n",
       "      <td>...</td>\n",
       "      <td>...</td>\n",
       "    </tr>\n",
       "    <tr>\n",
       "      <th>64556</th>\n",
       "      <td>1.0</td>\n",
       "      <td>0</td>\n",
       "      <td>0</td>\n",
       "      <td>0</td>\n",
       "      <td>0</td>\n",
       "      <td>0</td>\n",
       "      <td>0</td>\n",
       "      <td>0</td>\n",
       "      <td>0</td>\n",
       "      <td>0</td>\n",
       "      <td>0</td>\n",
       "      <td>0</td>\n",
       "      <td>0</td>\n",
       "      <td>0</td>\n",
       "      <td>1</td>\n",
       "    </tr>\n",
       "    <tr>\n",
       "      <th>64557</th>\n",
       "      <td>1.0</td>\n",
       "      <td>0</td>\n",
       "      <td>0</td>\n",
       "      <td>0</td>\n",
       "      <td>0</td>\n",
       "      <td>0</td>\n",
       "      <td>0</td>\n",
       "      <td>0</td>\n",
       "      <td>0</td>\n",
       "      <td>0</td>\n",
       "      <td>0</td>\n",
       "      <td>0</td>\n",
       "      <td>0</td>\n",
       "      <td>0</td>\n",
       "      <td>1</td>\n",
       "    </tr>\n",
       "    <tr>\n",
       "      <th>64558</th>\n",
       "      <td>1.0</td>\n",
       "      <td>0</td>\n",
       "      <td>0</td>\n",
       "      <td>0</td>\n",
       "      <td>0</td>\n",
       "      <td>0</td>\n",
       "      <td>0</td>\n",
       "      <td>0</td>\n",
       "      <td>0</td>\n",
       "      <td>0</td>\n",
       "      <td>0</td>\n",
       "      <td>0</td>\n",
       "      <td>0</td>\n",
       "      <td>0</td>\n",
       "      <td>1</td>\n",
       "    </tr>\n",
       "    <tr>\n",
       "      <th>64560</th>\n",
       "      <td>1.0</td>\n",
       "      <td>0</td>\n",
       "      <td>1</td>\n",
       "      <td>0</td>\n",
       "      <td>0</td>\n",
       "      <td>0</td>\n",
       "      <td>0</td>\n",
       "      <td>0</td>\n",
       "      <td>0</td>\n",
       "      <td>0</td>\n",
       "      <td>0</td>\n",
       "      <td>0</td>\n",
       "      <td>0</td>\n",
       "      <td>0</td>\n",
       "      <td>1</td>\n",
       "    </tr>\n",
       "    <tr>\n",
       "      <th>64561</th>\n",
       "      <td>1.0</td>\n",
       "      <td>0</td>\n",
       "      <td>0</td>\n",
       "      <td>0</td>\n",
       "      <td>0</td>\n",
       "      <td>0</td>\n",
       "      <td>0</td>\n",
       "      <td>0</td>\n",
       "      <td>0</td>\n",
       "      <td>0</td>\n",
       "      <td>0</td>\n",
       "      <td>0</td>\n",
       "      <td>0</td>\n",
       "      <td>0</td>\n",
       "      <td>1</td>\n",
       "    </tr>\n",
       "  </tbody>\n",
       "</table>\n",
       "<p>707592 rows × 15 columns</p>\n",
       "</div>"
      ],
      "text/plain": [
       "       const  TREAT  Eligible  WEEK_23  WEEK_24  WEEK_25  WEEK_26  WEEK_27  \\\n",
       "1        1.0      0         1        0        0        0        0        0   \n",
       "2        1.0      1         1        0        0        0        0        0   \n",
       "3        1.0      1         0        0        0        0        0        0   \n",
       "4        1.0      0         0        0        0        0        0        0   \n",
       "5        1.0      1         1        0        0        0        0        0   \n",
       "...      ...    ...       ...      ...      ...      ...      ...      ...   \n",
       "64556    1.0      0         0        0        0        0        0        0   \n",
       "64557    1.0      0         0        0        0        0        0        0   \n",
       "64558    1.0      0         0        0        0        0        0        0   \n",
       "64560    1.0      0         1        0        0        0        0        0   \n",
       "64561    1.0      0         0        0        0        0        0        0   \n",
       "\n",
       "       WEEK_28  WEEK_29  WEEK_30  WEEK_31  WEEK_32  WEEK_33  WEEK_34  \n",
       "1            0        0        0        0        0        0        0  \n",
       "2            0        0        0        0        0        0        0  \n",
       "3            0        0        0        0        0        0        0  \n",
       "4            0        0        0        0        0        0        0  \n",
       "5            0        0        0        0        0        0        0  \n",
       "...        ...      ...      ...      ...      ...      ...      ...  \n",
       "64556        0        0        0        0        0        0        1  \n",
       "64557        0        0        0        0        0        0        1  \n",
       "64558        0        0        0        0        0        0        1  \n",
       "64560        0        0        0        0        0        0        1  \n",
       "64561        0        0        0        0        0        0        1  \n",
       "\n",
       "[707592 rows x 15 columns]"
      ]
     },
     "execution_count": 156,
     "metadata": {},
     "output_type": "execute_result"
    }
   ],
   "source": [
    "df_phase3['WEEK'] = df_phase3['WEEK'].astype(str)\n",
    "X = pd.get_dummies(df_phase3[['TREAT', 'WEEK', 'Eligible']], drop_first=True).astype(int)\n",
    "y = df_phase3['SYMPTOMATIC']\n",
    "X = sm.add_constant(X)\n",
    "X"
   ]
  },
  {
   "cell_type": "code",
   "execution_count": 174,
   "id": "c82a15c7",
   "metadata": {},
   "outputs": [
    {
     "data": {
      "text/plain": [
       "1        22\n",
       "2        22\n",
       "3        22\n",
       "4        22\n",
       "5        22\n",
       "         ..\n",
       "64556    34\n",
       "64557    34\n",
       "64558    34\n",
       "64560    34\n",
       "64561    34\n",
       "Name: WEEK, Length: 707592, dtype: object"
      ]
     },
     "execution_count": 174,
     "metadata": {},
     "output_type": "execute_result"
    }
   ],
   "source": [
    "df_phase3[\"WEEK\"]"
   ]
  },
  {
   "cell_type": "code",
   "execution_count": 201,
   "id": "9dcc867a",
   "metadata": {},
   "outputs": [],
   "source": [
    "del df"
   ]
  },
  {
   "cell_type": "code",
   "execution_count": 219,
   "id": "0c2dfdb1",
   "metadata": {},
   "outputs": [],
   "source": [
    "test_model = sm.OLS.from_formula(\"SYMPTOMATIC ~ 1 + TREAT + Eligible + C(WEEK, Treatment(reference = '22'))\", data=df_phase3).fit(cov_type='HC0')"
   ]
  },
  {
   "cell_type": "code",
   "execution_count": 220,
   "id": "314ad349",
   "metadata": {},
   "outputs": [
    {
     "data": {
      "text/html": [
       "<table class=\"simpletable\">\n",
       "<caption>OLS Regression Results</caption>\n",
       "<tr>\n",
       "  <th>Dep. Variable:</th>       <td>SYMPTOMATIC</td>   <th>  R-squared:         </th>  <td>   0.019</td>  \n",
       "</tr>\n",
       "<tr>\n",
       "  <th>Model:</th>                   <td>OLS</td>       <th>  Adj. R-squared:    </th>  <td>   0.019</td>  \n",
       "</tr>\n",
       "<tr>\n",
       "  <th>Method:</th>             <td>Least Squares</td>  <th>  F-statistic:       </th>  <td>   995.0</td>  \n",
       "</tr>\n",
       "<tr>\n",
       "  <th>Date:</th>             <td>Sun, 20 Nov 2022</td> <th>  Prob (F-statistic):</th>   <td>  0.00</td>   \n",
       "</tr>\n",
       "<tr>\n",
       "  <th>Time:</th>                 <td>18:07:31</td>     <th>  Log-Likelihood:    </th> <td>-4.3111e+05</td>\n",
       "</tr>\n",
       "<tr>\n",
       "  <th>No. Observations:</th>      <td>707592</td>      <th>  AIC:               </th>  <td>8.623e+05</td> \n",
       "</tr>\n",
       "<tr>\n",
       "  <th>Df Residuals:</th>          <td>707577</td>      <th>  BIC:               </th>  <td>8.624e+05</td> \n",
       "</tr>\n",
       "<tr>\n",
       "  <th>Df Model:</th>              <td>    14</td>      <th>                     </th>      <td> </td>     \n",
       "</tr>\n",
       "<tr>\n",
       "  <th>Covariance Type:</th>         <td>HC0</td>       <th>                     </th>      <td> </td>     \n",
       "</tr>\n",
       "</table>\n",
       "<table class=\"simpletable\">\n",
       "<tr>\n",
       "                      <td></td>                        <th>coef</th>     <th>std err</th>      <th>z</th>      <th>P>|z|</th>  <th>[0.025</th>    <th>0.975]</th>  \n",
       "</tr>\n",
       "<tr>\n",
       "  <th>Intercept</th>                                <td>    0.2905</td> <td>    0.002</td> <td>  124.453</td> <td> 0.000</td> <td>    0.286</td> <td>    0.295</td>\n",
       "</tr>\n",
       "<tr>\n",
       "  <th>Eligible[T.True]</th>                         <td>    0.0829</td> <td>    0.001</td> <td>   72.944</td> <td> 0.000</td> <td>    0.081</td> <td>    0.085</td>\n",
       "</tr>\n",
       "<tr>\n",
       "  <th>C(WEEK, Treatment(reference='22'))[T.23]</th> <td>   -0.0164</td> <td>    0.003</td> <td>   -5.749</td> <td> 0.000</td> <td>   -0.022</td> <td>   -0.011</td>\n",
       "</tr>\n",
       "<tr>\n",
       "  <th>C(WEEK, Treatment(reference='22'))[T.24]</th> <td>   -0.0392</td> <td>    0.003</td> <td>  -13.662</td> <td> 0.000</td> <td>   -0.045</td> <td>   -0.034</td>\n",
       "</tr>\n",
       "<tr>\n",
       "  <th>C(WEEK, Treatment(reference='22'))[T.25]</th> <td>   -0.0472</td> <td>    0.003</td> <td>  -16.529</td> <td> 0.000</td> <td>   -0.053</td> <td>   -0.042</td>\n",
       "</tr>\n",
       "<tr>\n",
       "  <th>C(WEEK, Treatment(reference='22'))[T.26]</th> <td>   -0.0610</td> <td>    0.003</td> <td>  -21.385</td> <td> 0.000</td> <td>   -0.067</td> <td>   -0.055</td>\n",
       "</tr>\n",
       "<tr>\n",
       "  <th>C(WEEK, Treatment(reference='22'))[T.27]</th> <td>   -0.0849</td> <td>    0.003</td> <td>  -30.118</td> <td> 0.000</td> <td>   -0.090</td> <td>   -0.079</td>\n",
       "</tr>\n",
       "<tr>\n",
       "  <th>C(WEEK, Treatment(reference='22'))[T.28]</th> <td>   -0.0980</td> <td>    0.003</td> <td>  -33.503</td> <td> 0.000</td> <td>   -0.104</td> <td>   -0.092</td>\n",
       "</tr>\n",
       "<tr>\n",
       "  <th>C(WEEK, Treatment(reference='22'))[T.29]</th> <td>   -0.1053</td> <td>    0.003</td> <td>  -36.978</td> <td> 0.000</td> <td>   -0.111</td> <td>   -0.100</td>\n",
       "</tr>\n",
       "<tr>\n",
       "  <th>C(WEEK, Treatment(reference='22'))[T.30]</th> <td>   -0.1085</td> <td>    0.003</td> <td>  -37.542</td> <td> 0.000</td> <td>   -0.114</td> <td>   -0.103</td>\n",
       "</tr>\n",
       "<tr>\n",
       "  <th>C(WEEK, Treatment(reference='22'))[T.31]</th> <td>   -0.1178</td> <td>    0.003</td> <td>  -40.691</td> <td> 0.000</td> <td>   -0.124</td> <td>   -0.112</td>\n",
       "</tr>\n",
       "<tr>\n",
       "  <th>C(WEEK, Treatment(reference='22'))[T.32]</th> <td>   -0.1114</td> <td>    0.003</td> <td>  -37.917</td> <td> 0.000</td> <td>   -0.117</td> <td>   -0.106</td>\n",
       "</tr>\n",
       "<tr>\n",
       "  <th>C(WEEK, Treatment(reference='22'))[T.33]</th> <td>   -0.1207</td> <td>    0.003</td> <td>  -41.049</td> <td> 0.000</td> <td>   -0.126</td> <td>   -0.115</td>\n",
       "</tr>\n",
       "<tr>\n",
       "  <th>C(WEEK, Treatment(reference='22'))[T.34]</th> <td>   -0.1068</td> <td>    0.003</td> <td>  -36.222</td> <td> 0.000</td> <td>   -0.113</td> <td>   -0.101</td>\n",
       "</tr>\n",
       "<tr>\n",
       "  <th>TREAT</th>                                    <td>    0.0275</td> <td>    0.001</td> <td>   19.608</td> <td> 0.000</td> <td>    0.025</td> <td>    0.030</td>\n",
       "</tr>\n",
       "</table>\n",
       "<table class=\"simpletable\">\n",
       "<tr>\n",
       "  <th>Omnibus:</th>       <td>246880.157</td> <th>  Durbin-Watson:     </th>  <td>   1.992</td> \n",
       "</tr>\n",
       "<tr>\n",
       "  <th>Prob(Omnibus):</th>   <td> 0.000</td>   <th>  Jarque-Bera (JB):  </th> <td>136174.566</td>\n",
       "</tr>\n",
       "<tr>\n",
       "  <th>Skew:</th>            <td> 0.949</td>   <th>  Prob(JB):          </th>  <td>    0.00</td> \n",
       "</tr>\n",
       "<tr>\n",
       "  <th>Kurtosis:</th>        <td> 1.992</td>   <th>  Cond. No.          </th>  <td>    18.8</td> \n",
       "</tr>\n",
       "</table><br/><br/>Notes:<br/>[1] Standard Errors are heteroscedasticity robust (HC0)"
      ],
      "text/plain": [
       "<class 'statsmodels.iolib.summary.Summary'>\n",
       "\"\"\"\n",
       "                            OLS Regression Results                            \n",
       "==============================================================================\n",
       "Dep. Variable:            SYMPTOMATIC   R-squared:                       0.019\n",
       "Model:                            OLS   Adj. R-squared:                  0.019\n",
       "Method:                 Least Squares   F-statistic:                     995.0\n",
       "Date:                Sun, 20 Nov 2022   Prob (F-statistic):               0.00\n",
       "Time:                        18:07:31   Log-Likelihood:            -4.3111e+05\n",
       "No. Observations:              707592   AIC:                         8.623e+05\n",
       "Df Residuals:                  707577   BIC:                         8.624e+05\n",
       "Df Model:                          14                                         \n",
       "Covariance Type:                  HC0                                         \n",
       "============================================================================================================\n",
       "                                               coef    std err          z      P>|z|      [0.025      0.975]\n",
       "------------------------------------------------------------------------------------------------------------\n",
       "Intercept                                    0.2905      0.002    124.453      0.000       0.286       0.295\n",
       "Eligible[T.True]                             0.0829      0.001     72.944      0.000       0.081       0.085\n",
       "C(WEEK, Treatment(reference='22'))[T.23]    -0.0164      0.003     -5.749      0.000      -0.022      -0.011\n",
       "C(WEEK, Treatment(reference='22'))[T.24]    -0.0392      0.003    -13.662      0.000      -0.045      -0.034\n",
       "C(WEEK, Treatment(reference='22'))[T.25]    -0.0472      0.003    -16.529      0.000      -0.053      -0.042\n",
       "C(WEEK, Treatment(reference='22'))[T.26]    -0.0610      0.003    -21.385      0.000      -0.067      -0.055\n",
       "C(WEEK, Treatment(reference='22'))[T.27]    -0.0849      0.003    -30.118      0.000      -0.090      -0.079\n",
       "C(WEEK, Treatment(reference='22'))[T.28]    -0.0980      0.003    -33.503      0.000      -0.104      -0.092\n",
       "C(WEEK, Treatment(reference='22'))[T.29]    -0.1053      0.003    -36.978      0.000      -0.111      -0.100\n",
       "C(WEEK, Treatment(reference='22'))[T.30]    -0.1085      0.003    -37.542      0.000      -0.114      -0.103\n",
       "C(WEEK, Treatment(reference='22'))[T.31]    -0.1178      0.003    -40.691      0.000      -0.124      -0.112\n",
       "C(WEEK, Treatment(reference='22'))[T.32]    -0.1114      0.003    -37.917      0.000      -0.117      -0.106\n",
       "C(WEEK, Treatment(reference='22'))[T.33]    -0.1207      0.003    -41.049      0.000      -0.126      -0.115\n",
       "C(WEEK, Treatment(reference='22'))[T.34]    -0.1068      0.003    -36.222      0.000      -0.113      -0.101\n",
       "TREAT                                        0.0275      0.001     19.608      0.000       0.025       0.030\n",
       "==============================================================================\n",
       "Omnibus:                   246880.157   Durbin-Watson:                   1.992\n",
       "Prob(Omnibus):                  0.000   Jarque-Bera (JB):           136174.566\n",
       "Skew:                           0.949   Prob(JB):                         0.00\n",
       "Kurtosis:                       1.992   Cond. No.                         18.8\n",
       "==============================================================================\n",
       "\n",
       "Notes:\n",
       "[1] Standard Errors are heteroscedasticity robust (HC0)\n",
       "\"\"\""
      ]
     },
     "execution_count": 220,
     "metadata": {},
     "output_type": "execute_result"
    }
   ],
   "source": [
    "test_model.summary()"
   ]
  },
  {
   "cell_type": "code",
   "execution_count": 221,
   "id": "e50a3d16",
   "metadata": {},
   "outputs": [],
   "source": [
    "test = df_phase3[['TREAT', 'Eligible', 'WEEK', 'SYMPTOMATIC']].astype(int).set_index(['Eligible', 'WEEK']).sort_index()"
   ]
  },
  {
   "cell_type": "code",
   "execution_count": 222,
   "id": "537d92d6",
   "metadata": {},
   "outputs": [
    {
     "data": {
      "text/html": [
       "<table class=\"simpletable\">\n",
       "<caption>PanelOLS Estimation Summary</caption>\n",
       "<tr>\n",
       "  <th>Dep. Variable:</th>       <td>SYMPTOMATIC</td>   <th>  R-squared:         </th>     <td>0.0006</td>   \n",
       "</tr>\n",
       "<tr>\n",
       "  <th>Estimator:</th>            <td>PanelOLS</td>     <th>  R-squared (Between):</th>    <td>-0.0303</td>  \n",
       "</tr>\n",
       "<tr>\n",
       "  <th>No. Observations:</th>      <td>707592</td>      <th>  R-squared (Within):</th>     <td>0.0027</td>   \n",
       "</tr>\n",
       "<tr>\n",
       "  <th>Date:</th>             <td>Sun, Nov 20 2022</td> <th>  R-squared (Overall):</th>    <td>0.0037</td>   \n",
       "</tr>\n",
       "<tr>\n",
       "  <th>Time:</th>                 <td>18:07:39</td>     <th>  Log-likelihood     </th>   <td>-4.311e+05</td> \n",
       "</tr>\n",
       "<tr>\n",
       "  <th>Cov. Estimator:</th>      <td>Unadjusted</td>    <th>                     </th>        <td></td>      \n",
       "</tr>\n",
       "<tr>\n",
       "  <th></th>                          <td></td>         <th>  F-statistic:       </th>     <td>415.32</td>   \n",
       "</tr>\n",
       "<tr>\n",
       "  <th>Entities:</th>                 <td>2</td>        <th>  P-value            </th>     <td>0.0000</td>   \n",
       "</tr>\n",
       "<tr>\n",
       "  <th>Avg Obs:</th>              <td>3.538e+05</td>    <th>  Distribution:      </th>   <td>F(1,707577)</td>\n",
       "</tr>\n",
       "<tr>\n",
       "  <th>Min Obs:</th>              <td>2.101e+05</td>    <th>                     </th>        <td></td>      \n",
       "</tr>\n",
       "<tr>\n",
       "  <th>Max Obs:</th>              <td>4.974e+05</td>    <th>  F-statistic (robust):</th>   <td>415.32</td>   \n",
       "</tr>\n",
       "<tr>\n",
       "  <th></th>                          <td></td>         <th>  P-value            </th>     <td>0.0000</td>   \n",
       "</tr>\n",
       "<tr>\n",
       "  <th>Time periods:</th>            <td>13</td>        <th>  Distribution:      </th>   <td>F(1,707577)</td>\n",
       "</tr>\n",
       "<tr>\n",
       "  <th>Avg Obs:</th>              <td>5.443e+04</td>    <th>                     </th>        <td></td>      \n",
       "</tr>\n",
       "<tr>\n",
       "  <th>Min Obs:</th>              <td>4.794e+04</td>    <th>                     </th>        <td></td>      \n",
       "</tr>\n",
       "<tr>\n",
       "  <th>Max Obs:</th>              <td>6.178e+04</td>    <th>                     </th>        <td></td>      \n",
       "</tr>\n",
       "<tr>\n",
       "  <th></th>                          <td></td>         <th>                     </th>        <td></td>      \n",
       "</tr>\n",
       "</table>\n",
       "<table class=\"simpletable\">\n",
       "<caption>Parameter Estimates</caption>\n",
       "<tr>\n",
       "      <td></td>      <th>Parameter</th> <th>Std. Err.</th> <th>T-stat</th> <th>P-value</th> <th>Lower CI</th> <th>Upper CI</th>\n",
       "</tr>\n",
       "<tr>\n",
       "  <th>Intercept</th>  <td>0.2724</td>    <td>0.0007</td>   <td>413.49</td> <td>0.0000</td>   <td>0.2711</td>   <td>0.2737</td> \n",
       "</tr>\n",
       "<tr>\n",
       "  <th>TREAT</th>      <td>0.0275</td>    <td>0.0013</td>   <td>20.380</td> <td>0.0000</td>   <td>0.0248</td>   <td>0.0301</td> \n",
       "</tr>\n",
       "</table><br/><br/>F-test for Poolability: 675.70<br/>P-value: 0.0000<br/>Distribution: F(13,707577)<br/><br/>Included effects: Entity, Time"
      ],
      "text/plain": [
       "<class 'linearmodels.compat.statsmodels.Summary'>\n",
       "\"\"\"\n",
       "                          PanelOLS Estimation Summary                           \n",
       "================================================================================\n",
       "Dep. Variable:            SYMPTOMATIC   R-squared:                        0.0006\n",
       "Estimator:                   PanelOLS   R-squared (Between):             -0.0303\n",
       "No. Observations:              707592   R-squared (Within):               0.0027\n",
       "Date:                Sun, Nov 20 2022   R-squared (Overall):              0.0037\n",
       "Time:                        18:07:39   Log-likelihood                -4.311e+05\n",
       "Cov. Estimator:            Unadjusted                                           \n",
       "                                        F-statistic:                      415.32\n",
       "Entities:                           2   P-value                           0.0000\n",
       "Avg Obs:                    3.538e+05   Distribution:                F(1,707577)\n",
       "Min Obs:                    2.101e+05                                           \n",
       "Max Obs:                    4.974e+05   F-statistic (robust):             415.32\n",
       "                                        P-value                           0.0000\n",
       "Time periods:                      13   Distribution:                F(1,707577)\n",
       "Avg Obs:                    5.443e+04                                           \n",
       "Min Obs:                    4.794e+04                                           \n",
       "Max Obs:                    6.178e+04                                           \n",
       "                                                                                \n",
       "                             Parameter Estimates                              \n",
       "==============================================================================\n",
       "            Parameter  Std. Err.     T-stat    P-value    Lower CI    Upper CI\n",
       "------------------------------------------------------------------------------\n",
       "Intercept      0.2724     0.0007     413.49     0.0000      0.2711      0.2737\n",
       "TREAT          0.0275     0.0013     20.380     0.0000      0.0248      0.0301\n",
       "==============================================================================\n",
       "\n",
       "F-test for Poolability: 675.70\n",
       "P-value: 0.0000\n",
       "Distribution: F(13,707577)\n",
       "\n",
       "Included effects: Entity, Time\n",
       "\"\"\""
      ]
     },
     "execution_count": 222,
     "metadata": {},
     "output_type": "execute_result"
    }
   ],
   "source": [
    "PanelOLS.from_formula(\"SYMPTOMATIC ~ 1 + TREAT + EntityEffects + TimeEffects\", data=test).fit().summary"
   ]
  },
  {
   "cell_type": "code",
   "execution_count": 105,
   "id": "098819e4",
   "metadata": {},
   "outputs": [],
   "source": [
    "pooled_panel_data = df_phase3.groupby([\"Eligible\", \"WEEK\"])[['SYMPTOMATIC', 'TREAT']].mean().reset_index()"
   ]
  },
  {
   "cell_type": "code",
   "execution_count": 106,
   "id": "516f4d49",
   "metadata": {},
   "outputs": [],
   "source": [
    "pooled_panel_data['Eligible'] = pooled_panel_data['Eligible'].astype(int)\n",
    "pooled_panel_data['WEEK'] = pooled_panel_data['WEEK'].astype(str)"
   ]
  },
  {
   "cell_type": "code",
   "execution_count": 131,
   "id": "e3f4c45e",
   "metadata": {},
   "outputs": [
    {
     "data": {
      "text/html": [
       "<div>\n",
       "<style scoped>\n",
       "    .dataframe tbody tr th:only-of-type {\n",
       "        vertical-align: middle;\n",
       "    }\n",
       "\n",
       "    .dataframe tbody tr th {\n",
       "        vertical-align: top;\n",
       "    }\n",
       "\n",
       "    .dataframe thead th {\n",
       "        text-align: right;\n",
       "    }\n",
       "</style>\n",
       "<table border=\"1\" class=\"dataframe\">\n",
       "  <thead>\n",
       "    <tr style=\"text-align: right;\">\n",
       "      <th></th>\n",
       "      <th>Eligible</th>\n",
       "      <th>WEEK</th>\n",
       "      <th>SYMPTOMATIC</th>\n",
       "      <th>TREAT</th>\n",
       "    </tr>\n",
       "  </thead>\n",
       "  <tbody>\n",
       "    <tr>\n",
       "      <th>0</th>\n",
       "      <td>0</td>\n",
       "      <td>22</td>\n",
       "      <td>0.308312</td>\n",
       "      <td>0.326401</td>\n",
       "    </tr>\n",
       "    <tr>\n",
       "      <th>1</th>\n",
       "      <td>0</td>\n",
       "      <td>23</td>\n",
       "      <td>0.291299</td>\n",
       "      <td>0.332738</td>\n",
       "    </tr>\n",
       "    <tr>\n",
       "      <th>2</th>\n",
       "      <td>0</td>\n",
       "      <td>24</td>\n",
       "      <td>0.267122</td>\n",
       "      <td>0.265458</td>\n",
       "    </tr>\n",
       "    <tr>\n",
       "      <th>3</th>\n",
       "      <td>0</td>\n",
       "      <td>25</td>\n",
       "      <td>0.251980</td>\n",
       "      <td>0.219781</td>\n",
       "    </tr>\n",
       "    <tr>\n",
       "      <th>4</th>\n",
       "      <td>0</td>\n",
       "      <td>26</td>\n",
       "      <td>0.234527</td>\n",
       "      <td>0.185910</td>\n",
       "    </tr>\n",
       "    <tr>\n",
       "      <th>5</th>\n",
       "      <td>0</td>\n",
       "      <td>27</td>\n",
       "      <td>0.223356</td>\n",
       "      <td>0.280201</td>\n",
       "    </tr>\n",
       "    <tr>\n",
       "      <th>6</th>\n",
       "      <td>0</td>\n",
       "      <td>28</td>\n",
       "      <td>0.203821</td>\n",
       "      <td>0.100249</td>\n",
       "    </tr>\n",
       "    <tr>\n",
       "      <th>7</th>\n",
       "      <td>0</td>\n",
       "      <td>29</td>\n",
       "      <td>0.185944</td>\n",
       "      <td>0.064214</td>\n",
       "    </tr>\n",
       "    <tr>\n",
       "      <th>8</th>\n",
       "      <td>0</td>\n",
       "      <td>30</td>\n",
       "      <td>0.177456</td>\n",
       "      <td>0.060610</td>\n",
       "    </tr>\n",
       "    <tr>\n",
       "      <th>9</th>\n",
       "      <td>0</td>\n",
       "      <td>31</td>\n",
       "      <td>0.164012</td>\n",
       "      <td>0.048793</td>\n",
       "    </tr>\n",
       "    <tr>\n",
       "      <th>10</th>\n",
       "      <td>0</td>\n",
       "      <td>32</td>\n",
       "      <td>0.169440</td>\n",
       "      <td>0.043124</td>\n",
       "    </tr>\n",
       "    <tr>\n",
       "      <th>11</th>\n",
       "      <td>0</td>\n",
       "      <td>33</td>\n",
       "      <td>0.161095</td>\n",
       "      <td>0.035869</td>\n",
       "    </tr>\n",
       "    <tr>\n",
       "      <th>12</th>\n",
       "      <td>0</td>\n",
       "      <td>34</td>\n",
       "      <td>0.171359</td>\n",
       "      <td>0.000000</td>\n",
       "    </tr>\n",
       "    <tr>\n",
       "      <th>13</th>\n",
       "      <td>1</td>\n",
       "      <td>22</td>\n",
       "      <td>0.388700</td>\n",
       "      <td>0.685839</td>\n",
       "    </tr>\n",
       "    <tr>\n",
       "      <th>14</th>\n",
       "      <td>1</td>\n",
       "      <td>23</td>\n",
       "      <td>0.372905</td>\n",
       "      <td>0.698506</td>\n",
       "    </tr>\n",
       "    <tr>\n",
       "      <th>15</th>\n",
       "      <td>1</td>\n",
       "      <td>24</td>\n",
       "      <td>0.346684</td>\n",
       "      <td>0.576718</td>\n",
       "    </tr>\n",
       "    <tr>\n",
       "      <th>16</th>\n",
       "      <td>1</td>\n",
       "      <td>25</td>\n",
       "      <td>0.338102</td>\n",
       "      <td>0.472659</td>\n",
       "    </tr>\n",
       "    <tr>\n",
       "      <th>17</th>\n",
       "      <td>1</td>\n",
       "      <td>26</td>\n",
       "      <td>0.323393</td>\n",
       "      <td>0.398523</td>\n",
       "    </tr>\n",
       "    <tr>\n",
       "      <th>18</th>\n",
       "      <td>1</td>\n",
       "      <td>27</td>\n",
       "      <td>0.302857</td>\n",
       "      <td>0.675660</td>\n",
       "    </tr>\n",
       "    <tr>\n",
       "      <th>19</th>\n",
       "      <td>1</td>\n",
       "      <td>28</td>\n",
       "      <td>0.278350</td>\n",
       "      <td>0.250351</td>\n",
       "    </tr>\n",
       "    <tr>\n",
       "      <th>20</th>\n",
       "      <td>1</td>\n",
       "      <td>29</td>\n",
       "      <td>0.273061</td>\n",
       "      <td>0.160186</td>\n",
       "    </tr>\n",
       "    <tr>\n",
       "      <th>21</th>\n",
       "      <td>1</td>\n",
       "      <td>30</td>\n",
       "      <td>0.271254</td>\n",
       "      <td>0.129785</td>\n",
       "    </tr>\n",
       "    <tr>\n",
       "      <th>22</th>\n",
       "      <td>1</td>\n",
       "      <td>31</td>\n",
       "      <td>0.263014</td>\n",
       "      <td>0.107348</td>\n",
       "    </tr>\n",
       "    <tr>\n",
       "      <th>23</th>\n",
       "      <td>1</td>\n",
       "      <td>32</td>\n",
       "      <td>0.269268</td>\n",
       "      <td>0.093595</td>\n",
       "    </tr>\n",
       "    <tr>\n",
       "      <th>24</th>\n",
       "      <td>1</td>\n",
       "      <td>33</td>\n",
       "      <td>0.259185</td>\n",
       "      <td>0.083130</td>\n",
       "    </tr>\n",
       "    <tr>\n",
       "      <th>25</th>\n",
       "      <td>1</td>\n",
       "      <td>34</td>\n",
       "      <td>0.271885</td>\n",
       "      <td>0.000000</td>\n",
       "    </tr>\n",
       "  </tbody>\n",
       "</table>\n",
       "</div>"
      ],
      "text/plain": [
       "    Eligible WEEK  SYMPTOMATIC     TREAT\n",
       "0          0   22     0.308312  0.326401\n",
       "1          0   23     0.291299  0.332738\n",
       "2          0   24     0.267122  0.265458\n",
       "3          0   25     0.251980  0.219781\n",
       "4          0   26     0.234527  0.185910\n",
       "5          0   27     0.223356  0.280201\n",
       "6          0   28     0.203821  0.100249\n",
       "7          0   29     0.185944  0.064214\n",
       "8          0   30     0.177456  0.060610\n",
       "9          0   31     0.164012  0.048793\n",
       "10         0   32     0.169440  0.043124\n",
       "11         0   33     0.161095  0.035869\n",
       "12         0   34     0.171359  0.000000\n",
       "13         1   22     0.388700  0.685839\n",
       "14         1   23     0.372905  0.698506\n",
       "15         1   24     0.346684  0.576718\n",
       "16         1   25     0.338102  0.472659\n",
       "17         1   26     0.323393  0.398523\n",
       "18         1   27     0.302857  0.675660\n",
       "19         1   28     0.278350  0.250351\n",
       "20         1   29     0.273061  0.160186\n",
       "21         1   30     0.271254  0.129785\n",
       "22         1   31     0.263014  0.107348\n",
       "23         1   32     0.269268  0.093595\n",
       "24         1   33     0.259185  0.083130\n",
       "25         1   34     0.271885  0.000000"
      ]
     },
     "execution_count": 131,
     "metadata": {},
     "output_type": "execute_result"
    }
   ],
   "source": [
    "pooled_panel_data"
   ]
  },
  {
   "cell_type": "code",
   "execution_count": 132,
   "id": "293b89b5",
   "metadata": {},
   "outputs": [],
   "source": [
    "X = pd.get_dummies(pooled_panel_data[['Eligible', 'WEEK', 'TREAT']], drop_first=True)\n",
    "X = sm.add_constant(X)"
   ]
  },
  {
   "cell_type": "code",
   "execution_count": 142,
   "id": "b874bc60",
   "metadata": {},
   "outputs": [],
   "source": [
    "ols_model = sm.OLS(pooled_panel_data['TREAT'].values, X, hasconst=True)"
   ]
  },
  {
   "cell_type": "code",
   "execution_count": 143,
   "id": "90812cc1",
   "metadata": {},
   "outputs": [],
   "source": [
    "ols_model = naive_ols_model.fit(cov_type='HC0')"
   ]
  },
  {
   "cell_type": "code",
   "execution_count": 144,
   "id": "e0738fb3",
   "metadata": {},
   "outputs": [
    {
     "data": {
      "text/html": [
       "<table class=\"simpletable\">\n",
       "<caption>OLS Regression Results</caption>\n",
       "<tr>\n",
       "  <th>Dep. Variable:</th>       <td>SYMPTOMATIC</td>   <th>  R-squared:         </th>  <td>   0.012</td>  \n",
       "</tr>\n",
       "<tr>\n",
       "  <th>Model:</th>                   <td>OLS</td>       <th>  Adj. R-squared:    </th>  <td>   0.012</td>  \n",
       "</tr>\n",
       "<tr>\n",
       "  <th>Method:</th>             <td>Least Squares</td>  <th>  F-statistic:       </th>  <td>     nan</td>  \n",
       "</tr>\n",
       "<tr>\n",
       "  <th>Date:</th>             <td>Sun, 20 Nov 2022</td> <th>  Prob (F-statistic):</th>   <td>   nan</td>   \n",
       "</tr>\n",
       "<tr>\n",
       "  <th>Time:</th>                 <td>15:02:03</td>     <th>  Log-Likelihood:    </th> <td>-4.3355e+05</td>\n",
       "</tr>\n",
       "<tr>\n",
       "  <th>No. Observations:</th>      <td>707592</td>      <th>  AIC:               </th>  <td>8.671e+05</td> \n",
       "</tr>\n",
       "<tr>\n",
       "  <th>Df Residuals:</th>          <td>707578</td>      <th>  BIC:               </th>  <td>8.673e+05</td> \n",
       "</tr>\n",
       "<tr>\n",
       "  <th>Df Model:</th>              <td>    13</td>      <th>                     </th>      <td> </td>     \n",
       "</tr>\n",
       "<tr>\n",
       "  <th>Covariance Type:</th>         <td>HC0</td>       <th>                     </th>      <td> </td>     \n",
       "</tr>\n",
       "</table>\n",
       "<table class=\"simpletable\">\n",
       "<tr>\n",
       "     <td></td>        <th>coef</th>     <th>std err</th>      <th>z</th>      <th>P>|z|</th>  <th>[0.025</th>    <th>0.975]</th>  \n",
       "</tr>\n",
       "<tr>\n",
       "  <th>TREAT</th>   <td>    0.0476</td> <td>    0.001</td> <td>   34.849</td> <td> 0.000</td> <td>    0.045</td> <td>    0.050</td>\n",
       "</tr>\n",
       "<tr>\n",
       "  <th>WEEK_22</th> <td>    0.3378</td> <td>    0.002</td> <td>  149.152</td> <td> 0.000</td> <td>    0.333</td> <td>    0.342</td>\n",
       "</tr>\n",
       "<tr>\n",
       "  <th>WEEK_23</th> <td>    0.3210</td> <td>    0.002</td> <td>  154.986</td> <td> 0.000</td> <td>    0.317</td> <td>    0.325</td>\n",
       "</tr>\n",
       "<tr>\n",
       "  <th>WEEK_24</th> <td>    0.3007</td> <td>    0.002</td> <td>  147.922</td> <td> 0.000</td> <td>    0.297</td> <td>    0.305</td>\n",
       "</tr>\n",
       "<tr>\n",
       "  <th>WEEK_25</th> <td>    0.2940</td> <td>    0.002</td> <td>  149.249</td> <td> 0.000</td> <td>    0.290</td> <td>    0.298</td>\n",
       "</tr>\n",
       "<tr>\n",
       "  <th>WEEK_26</th> <td>    0.2814</td> <td>    0.002</td> <td>  145.867</td> <td> 0.000</td> <td>    0.278</td> <td>    0.285</td>\n",
       "</tr>\n",
       "<tr>\n",
       "  <th>WEEK_27</th> <td>    0.2528</td> <td>    0.002</td> <td>  126.437</td> <td> 0.000</td> <td>    0.249</td> <td>    0.257</td>\n",
       "</tr>\n",
       "<tr>\n",
       "  <th>WEEK_28</th> <td>    0.2453</td> <td>    0.002</td> <td>  124.640</td> <td> 0.000</td> <td>    0.241</td> <td>    0.249</td>\n",
       "</tr>\n",
       "<tr>\n",
       "  <th>WEEK_29</th> <td>    0.2405</td> <td>    0.002</td> <td>  133.119</td> <td> 0.000</td> <td>    0.237</td> <td>    0.244</td>\n",
       "</tr>\n",
       "<tr>\n",
       "  <th>WEEK_30</th> <td>    0.2378</td> <td>    0.002</td> <td>  127.565</td> <td> 0.000</td> <td>    0.234</td> <td>    0.241</td>\n",
       "</tr>\n",
       "<tr>\n",
       "  <th>WEEK_31</th> <td>    0.2283</td> <td>    0.002</td> <td>  122.407</td> <td> 0.000</td> <td>    0.225</td> <td>    0.232</td>\n",
       "</tr>\n",
       "<tr>\n",
       "  <th>WEEK_32</th> <td>    0.2357</td> <td>    0.002</td> <td>  122.571</td> <td> 0.000</td> <td>    0.232</td> <td>    0.239</td>\n",
       "</tr>\n",
       "<tr>\n",
       "  <th>WEEK_33</th> <td>    0.2265</td> <td>    0.002</td> <td>  117.916</td> <td> 0.000</td> <td>    0.223</td> <td>    0.230</td>\n",
       "</tr>\n",
       "<tr>\n",
       "  <th>WEEK_34</th> <td>    0.2419</td> <td>    0.002</td> <td>  127.108</td> <td> 0.000</td> <td>    0.238</td> <td>    0.246</td>\n",
       "</tr>\n",
       "</table>\n",
       "<table class=\"simpletable\">\n",
       "<tr>\n",
       "  <th>Omnibus:</th>       <td>255715.962</td> <th>  Durbin-Watson:     </th>  <td>   1.992</td> \n",
       "</tr>\n",
       "<tr>\n",
       "  <th>Prob(Omnibus):</th>   <td> 0.000</td>   <th>  Jarque-Bera (JB):  </th> <td>139450.157</td>\n",
       "</tr>\n",
       "<tr>\n",
       "  <th>Skew:</th>            <td> 0.962</td>   <th>  Prob(JB):          </th>  <td>    0.00</td> \n",
       "</tr>\n",
       "<tr>\n",
       "  <th>Kurtosis:</th>        <td> 1.985</td>   <th>  Cond. No.          </th>  <td>    2.92</td> \n",
       "</tr>\n",
       "</table><br/><br/>Notes:<br/>[1] Standard Errors are heteroscedasticity robust (HC0)"
      ],
      "text/plain": [
       "<class 'statsmodels.iolib.summary.Summary'>\n",
       "\"\"\"\n",
       "                            OLS Regression Results                            \n",
       "==============================================================================\n",
       "Dep. Variable:            SYMPTOMATIC   R-squared:                       0.012\n",
       "Model:                            OLS   Adj. R-squared:                  0.012\n",
       "Method:                 Least Squares   F-statistic:                       nan\n",
       "Date:                Sun, 20 Nov 2022   Prob (F-statistic):                nan\n",
       "Time:                        15:02:03   Log-Likelihood:            -4.3355e+05\n",
       "No. Observations:              707592   AIC:                         8.671e+05\n",
       "Df Residuals:                  707578   BIC:                         8.673e+05\n",
       "Df Model:                          13                                         \n",
       "Covariance Type:                  HC0                                         \n",
       "==============================================================================\n",
       "                 coef    std err          z      P>|z|      [0.025      0.975]\n",
       "------------------------------------------------------------------------------\n",
       "TREAT          0.0476      0.001     34.849      0.000       0.045       0.050\n",
       "WEEK_22        0.3378      0.002    149.152      0.000       0.333       0.342\n",
       "WEEK_23        0.3210      0.002    154.986      0.000       0.317       0.325\n",
       "WEEK_24        0.3007      0.002    147.922      0.000       0.297       0.305\n",
       "WEEK_25        0.2940      0.002    149.249      0.000       0.290       0.298\n",
       "WEEK_26        0.2814      0.002    145.867      0.000       0.278       0.285\n",
       "WEEK_27        0.2528      0.002    126.437      0.000       0.249       0.257\n",
       "WEEK_28        0.2453      0.002    124.640      0.000       0.241       0.249\n",
       "WEEK_29        0.2405      0.002    133.119      0.000       0.237       0.244\n",
       "WEEK_30        0.2378      0.002    127.565      0.000       0.234       0.241\n",
       "WEEK_31        0.2283      0.002    122.407      0.000       0.225       0.232\n",
       "WEEK_32        0.2357      0.002    122.571      0.000       0.232       0.239\n",
       "WEEK_33        0.2265      0.002    117.916      0.000       0.223       0.230\n",
       "WEEK_34        0.2419      0.002    127.108      0.000       0.238       0.246\n",
       "==============================================================================\n",
       "Omnibus:                   255715.962   Durbin-Watson:                   1.992\n",
       "Prob(Omnibus):                  0.000   Jarque-Bera (JB):           139450.157\n",
       "Skew:                           0.962   Prob(JB):                         0.00\n",
       "Kurtosis:                       1.985   Cond. No.                         2.92\n",
       "==============================================================================\n",
       "\n",
       "Notes:\n",
       "[1] Standard Errors are heteroscedasticity robust (HC0)\n",
       "\"\"\""
      ]
     },
     "execution_count": 144,
     "metadata": {},
     "output_type": "execute_result"
    }
   ],
   "source": [
    "ols_model.summary()"
   ]
  },
  {
   "cell_type": "code",
   "execution_count": 113,
   "id": "a6ee04c5",
   "metadata": {},
   "outputs": [
    {
     "data": {
      "text/plain": [
       "linearmodels.panel.model.PanelOLS"
      ]
     },
     "execution_count": 113,
     "metadata": {},
     "output_type": "execute_result"
    }
   ],
   "source": [
    "PanelOLS(pooled_panel_data['TREAT'].values, X)"
   ]
  },
  {
   "cell_type": "code",
   "execution_count": null,
   "id": "8e601937",
   "metadata": {},
   "outputs": [],
   "source": []
  }
 ],
 "metadata": {
  "kernelspec": {
   "display_name": "socio273",
   "language": "python",
   "name": "socio273"
  },
  "language_info": {
   "codemirror_mode": {
    "name": "ipython",
    "version": 3
   },
   "file_extension": ".py",
   "mimetype": "text/x-python",
   "name": "python",
   "nbconvert_exporter": "python",
   "pygments_lexer": "ipython3",
   "version": "3.9.12"
  },
  "vscode": {
   "interpreter": {
    "hash": "2fb3e3cc635cfb08fd7ff4ababbec3e46cec7b961d3626ef22719eb44f0b8a49"
   }
  }
 },
 "nbformat": 4,
 "nbformat_minor": 5
}
